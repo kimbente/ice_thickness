{
 "cells": [
  {
   "cell_type": "code",
   "execution_count": 1,
   "metadata": {},
   "outputs": [
    {
     "name": "stderr",
     "output_type": "stream",
     "text": [
      "/home/kim/eccv/.conda/lib/python3.8/site-packages/tqdm/auto.py:21: TqdmWarning: IProgress not found. Please update jupyter and ipywidgets. See https://ipywidgets.readthedocs.io/en/stable/user_install.html\n",
      "  from .autonotebook import tqdm as notebook_tqdm\n"
     ]
    }
   ],
   "source": [
    "import pandas as pd\n",
    "import numpy as np\n",
    "import matplotlib.pyplot as plt\n",
    "import torch\n",
    "import math\n",
    "\n",
    "torch.set_printoptions(sci_mode = False)"
   ]
  },
  {
   "cell_type": "code",
   "execution_count": 47,
   "metadata": {},
   "outputs": [],
   "source": [
    "# grid discretisation over domain [0, 1] for x1 and x2\n",
    "N_grid_x1 = 20 + 1 # 21 so steps are easy numbers\n",
    "N_grid_x2 = N_grid_x1\n",
    "\n",
    "N_grid = N_grid_x1 * N_grid_x2\n",
    "\n",
    "x1 = np.linspace(0, 1, N_grid_x1) # x\n",
    "x2 = np.linspace(0, 1, N_grid_x2) # y\n",
    "\n",
    "# define distances\n",
    "dx = 1 / (N_grid_x1 - 1)\n",
    "dy = 1 / (N_grid_x2 - 1)\n",
    "\n",
    "X1, X2 = np.meshgrid(x1, x2)"
   ]
  },
  {
   "cell_type": "markdown",
   "metadata": {},
   "source": [
    "# To Do: normalise?"
   ]
  },
  {
   "cell_type": "code",
   "execution_count": 3,
   "metadata": {},
   "outputs": [],
   "source": [
    "def simulate_convergence(X1, X2):\n",
    "    U = X2\n",
    "    V = X1\n",
    "    return U, V\n",
    "\n",
    "def simulate_merge(U, V):\n",
    "    U = (X2 + 0.5)**2\n",
    "    V = np.sin(X1 * math.pi)\n",
    "    return U, V\n",
    "\n",
    "def simulate_branching(U, V):\n",
    "    U = X1 * X2\n",
    "    V = - 0.5 * X2**2 + (X1 - 0.8)\n",
    "    return U, V\n",
    "\n",
    "def simulate_deflection(U, V):\n",
    "    U = (X2 * 6 - 3)**2 + (X1 * 6 - 3)**2 + 3\n",
    "    V = -2 * (X2 * 6 - 3) * (X1 * 6 - 3)\n",
    "    return U, V\n",
    "\n",
    "def simulate_ridge(U, V):\n",
    "    U = X2 + 1\n",
    "    V = - np.cos(3 * X1**3 * math.pi)\n",
    "    return U, V"
   ]
  },
  {
   "cell_type": "code",
   "execution_count": 50,
   "metadata": {},
   "outputs": [],
   "source": [
    "# flat [N, 1] arrays - unsqueeze for explicit last dim\n",
    "X1_train = torch.tensor([0.8750, 0.1500, 0.2500, 0.5000, 0.3853, 0.9991, 0.4333, 0.1494, 0.6196, 0.7808, 0.5609, 0.5895, 0.3395, 0.7232]).unsqueeze(-1)\n",
    "\n",
    "X2_train = torch.tensor([0.6750, 0.9750, 0.9000, 0.3500, 0.6010, 0.3451, 0.7451, 0.8499, 0.6240, 0.7218, 0.8389, 0.1664, 0.9771, 0.0598]).unsqueeze(-1)\n",
    "\n",
    "X1_test = torch.tensor(X1.flatten()).squeeze().unsqueeze(-1)\n",
    "X2_test = torch.tensor(X2.flatten()).squeeze().unsqueeze(-1)"
   ]
  },
  {
   "cell_type": "code",
   "execution_count": 11,
   "metadata": {},
   "outputs": [],
   "source": [
    "sigma_n = torch.tensor([0.05])"
   ]
  },
  {
   "cell_type": "code",
   "execution_count": 21,
   "metadata": {},
   "outputs": [],
   "source": [
    "U_train, V_train = simulate_convergence(X1_train, X2_train)\n",
    "\n",
    "U_train_noisy = U_train + sigma_n * torch.randn_like(U_train)\n",
    "V_train_noisy = V_train + sigma_n * torch.randn_like(V_train)"
   ]
  },
  {
   "cell_type": "markdown",
   "metadata": {},
   "source": [
    "# Hyperparameters"
   ]
  },
  {
   "cell_type": "code",
   "execution_count": 51,
   "metadata": {},
   "outputs": [],
   "source": [
    "X1_rows = X1_train_fixed\n",
    "X2_rows = X2_train_fixed\n",
    "\n",
    "X1_columns = X1_test\n",
    "X2_columns = X2_test"
   ]
  },
  {
   "cell_type": "code",
   "execution_count": 55,
   "metadata": {},
   "outputs": [
    {
     "data": {
      "text/plain": [
       "torch.Size([14, 441])"
      ]
     },
     "execution_count": 55,
     "metadata": {},
     "output_type": "execute_result"
    }
   ],
   "source": [
    "X1_dist = (X1_rows.unsqueeze(1) - X1_columns.unsqueeze(0)).squeeze()\n",
    "X2_dist = (X2_rows.unsqueeze(1) - X2_columns.unsqueeze(0)).squeeze()\n",
    "\n",
    "X2_dist.shape"
   ]
  },
  {
   "cell_type": "code",
   "execution_count": null,
   "metadata": {},
   "outputs": [],
   "source": [
    "lengthscale = torch.tensor([0.3])\n",
    "output_scalar = torch.tensor([1.0])\n",
    "\n",
    "def divergence_free_se_kernel(X1_rows,\n",
    "                              X2_rows, \n",
    "                              X1_columns, \n",
    "                              X2_columns, \n",
    "                              sigma_f = output_scalar, \n",
    "                              l = lengthscale):\n",
    "    \n",
    "    # Calculate the (not quite Euclidean) distance between all pairs of points\n",
    "    # This approach yields negative values as well\n",
    "    # X1_dist: torch.Size([n_rows, n_columns])\n",
    "    X1_dist = (X1_rows.unsqueeze(1) - X1_columns.unsqueeze(0)).squeeze()\n",
    "    # ALTERNATIVE (pos.) torch.cdist(X1_rows, X1_columns): this is just torch.abs(X1_dist)\n",
    "\n",
    "    # X2_dist: torch.Size([n_rows, n_columns])\n",
    "    X2_dist = (X2_rows.unsqueeze(1) - X2_columns.unsqueeze(0)).squeeze()\n",
    "\n",
    "    # torch.Size([n_rows, n_columns])\n",
    "    upper_left = (1 - X2_dist.square().div(l**2)).div(l**2)\n",
    "\n",
    "    # elementwise multiplication and division by scalar\n",
    "    # Matlab version has negative values here! \n",
    "    upper_right = torch.mul(X1_dist, X2_dist).div(l**4)\n",
    "    lower_left = upper_right\n",
    "    lower_right = (1 - X1_dist.square().div(l**2)).div(l**2)\n",
    "\n",
    "    # Concatenate upper and lower blocks column-wise, and then concatenate them row-wise\n",
    "    # torch.Size([2 * n_train, 2 * n_test])\n",
    "    block = torch.cat((torch.cat((upper_left, upper_right), 1), torch.cat((lower_left, lower_right), 1)), 0)\n",
    "\n",
    "    # torch.Size([2 * n_train, 2 * n_test])\n",
    "    # elementwise multiplication\n",
    "    K = sigma_f.square() * block.mul((X1_dist.square() + X2_dist.square()).div(-2 * l**2).exp().tile(2, 2))\n",
    "\n",
    "    return K"
   ]
  }
 ],
 "metadata": {
  "kernelspec": {
   "display_name": "base",
   "language": "python",
   "name": "python3"
  },
  "language_info": {
   "codemirror_mode": {
    "name": "ipython",
    "version": 3
   },
   "file_extension": ".py",
   "mimetype": "text/x-python",
   "name": "python",
   "nbconvert_exporter": "python",
   "pygments_lexer": "ipython3",
   "version": "3.8.12"
  }
 },
 "nbformat": 4,
 "nbformat_minor": 2
}
