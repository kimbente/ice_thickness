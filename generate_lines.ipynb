{
 "cells": [
  {
   "cell_type": "code",
   "execution_count": 6,
   "id": "5cd3f4bf",
   "metadata": {},
   "outputs": [],
   "source": [
    "# Define line segments: [(x_start, x_end), (y_start, y_end)]\n",
    "# 9 lines\n",
    "lines = [\n",
    "    ([0.50, 0.00], [0.00, 1.00]),  \n",
    "    ([1.00, 0.00], [0.00, 1.50]),  \n",
    "    ([1.20, 0.00], [0.00, 1.80]),\n",
    "    ([1.40, 0.00], [0.00, 2.80]),\n",
    "    ([0.00, 2.50], [1.50, 3.00]),\n",
    "    ([0.00, 1.40], [2.00, 3.00]),\n",
    "    ([2.00, 2.40], [0.00, 3.00]),\n",
    "    ([0.70, 3.00], [0.00, 0.70]),\n",
    "    ([1.50, 3.00], [0.00, 0.40]),\n",
    "]"
   ]
  },
  {
   "cell_type": "code",
   "execution_count": null,
   "id": "74e95092",
   "metadata": {},
   "outputs": [],
   "source": [
    "import csv\n",
    "\n",
    "lines = [\n",
    "    ([0.50, 0.00], [0.00, 1.00]),  \n",
    "    ([1.00, 0.00], [0.00, 1.50]),  \n",
    "    ([1.20, 0.00], [0.00, 1.80]),\n",
    "    ([1.40, 0.00], [0.00, 2.80]),\n",
    "    ([0.00, 2.50], [1.50, 3.00]),\n",
    "    ([0.00, 1.40], [2.00, 3.00]),\n",
    "    ([2.00, 2.40], [0.00, 3.00]),\n",
    "    ([0.70, 3.00], [0.00, 0.70]),\n",
    "    ([1.50, 3.00], [0.00, 0.40]),\n",
    "]\n",
    "\n",
    "# write line segements file\n",
    "with open(\"data/line_segments.csv\", mode = \"w\", newline = \"\") as file:\n",
    "    writer = csv.writer(file)\n",
    "    writer.writerow([\"x_start\", \"x_end\", \"y_start\", \"y_end\"])\n",
    "    for (x_pair, y_pair) in lines:\n",
    "        writer.writerow([x_pair[0], x_pair[1], y_pair[0], y_pair[1]])"
   ]
  },
  {
   "cell_type": "code",
   "execution_count": null,
   "id": "7096fabe",
   "metadata": {},
   "outputs": [],
   "source": []
  }
 ],
 "metadata": {
  "kernelspec": {
   "display_name": "Python 3",
   "language": "python",
   "name": "python3"
  },
  "language_info": {
   "codemirror_mode": {
    "name": "ipython",
    "version": 3
   },
   "file_extension": ".py",
   "mimetype": "text/x-python",
   "name": "python",
   "nbconvert_exporter": "python",
   "pygments_lexer": "ipython3",
   "version": "3.9.20"
  }
 },
 "nbformat": 4,
 "nbformat_minor": 5
}
