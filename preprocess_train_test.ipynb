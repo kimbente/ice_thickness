{
 "cells": [
  {
   "cell_type": "code",
   "execution_count": 2,
   "metadata": {},
   "outputs": [],
   "source": [
    "import pandas as pd\n",
    "import numpy as np\n",
    "import matplotlib\n",
    "import matplotlib.pyplot as plt\n",
    "import xarray as xr\n",
    "import torch"
   ]
  },
  {
   "cell_type": "markdown",
   "metadata": {},
   "source": [
    "# Outputs:\n",
    "\n",
    "- Training tensor\n",
    "- Test tensors (grid)"
   ]
  },
  {
   "cell_type": "markdown",
   "metadata": {},
   "source": [
    "# Load data\n",
    "\n",
    "- Merge as pd dataframe\n",
    "- Make tensor\n",
    "- 6 dimensions: [t, x, y, vx, vy, s]\n",
    "\n",
    "- get suface from byrd BedMachine"
   ]
  },
  {
   "cell_type": "code",
   "execution_count": 3,
   "metadata": {},
   "outputs": [],
   "source": [
    "velocity_df = pd.read_csv('data/ice_vel_myr_VX_VY_x_y_flat.csv', index_col = 0)\n",
    "surface_df = pd.read_csv('data/surface_m_ellipsoid_true_s_x_y_flat.csv', index_col = 0)\n",
    "byrd_bedmap_points_pixel = pd.read_csv('/home/kim/ice_thickness/data/byrd_bedmap_points_assigned_to_pixels_mean.csv')"
   ]
  },
  {
   "cell_type": "markdown",
   "metadata": {},
   "source": [
    "# Training point data (on grid)"
   ]
  },
  {
   "cell_type": "markdown",
   "metadata": {},
   "source": [
    "### Look up corresponding grid cell velocity values "
   ]
  },
  {
   "cell_type": "code",
   "execution_count": 4,
   "metadata": {},
   "outputs": [],
   "source": [
    "# Merge 1 \n",
    "txyvxvy = pd.merge(byrd_bedmap_points_pixel[['t_mean', 'x', 'y']], velocity_df, on = ['x', 'y'], how = 'left')\n",
    "# how = 'left' and how = 'inner' yield the same result"
   ]
  },
  {
   "cell_type": "code",
   "execution_count": 5,
   "metadata": {},
   "outputs": [],
   "source": [
    "# Merge 2\n",
    "txyvxvys = pd.merge(txyvxvy, surface_df, on = ['x', 'y'], how = 'left')\n",
    "# rename first column\n",
    "txyvxvys.columns = ['t', 'x', 'y', 'vx', 'vy', 's']"
   ]
  },
  {
   "cell_type": "code",
   "execution_count": 6,
   "metadata": {},
   "outputs": [
    {
     "data": {
      "text/html": [
       "<div>\n",
       "<style scoped>\n",
       "    .dataframe tbody tr th:only-of-type {\n",
       "        vertical-align: middle;\n",
       "    }\n",
       "\n",
       "    .dataframe tbody tr th {\n",
       "        vertical-align: top;\n",
       "    }\n",
       "\n",
       "    .dataframe thead th {\n",
       "        text-align: right;\n",
       "    }\n",
       "</style>\n",
       "<table border=\"1\" class=\"dataframe\">\n",
       "  <thead>\n",
       "    <tr style=\"text-align: right;\">\n",
       "      <th></th>\n",
       "      <th>t</th>\n",
       "      <th>x</th>\n",
       "      <th>y</th>\n",
       "      <th>vx</th>\n",
       "      <th>vy</th>\n",
       "      <th>s</th>\n",
       "    </tr>\n",
       "  </thead>\n",
       "  <tbody>\n",
       "    <tr>\n",
       "      <th>0</th>\n",
       "      <td>95.892778</td>\n",
       "      <td>350000</td>\n",
       "      <td>-980000</td>\n",
       "      <td>-4.737582</td>\n",
       "      <td>-9.841386</td>\n",
       "      <td>782.167542</td>\n",
       "    </tr>\n",
       "    <tr>\n",
       "      <th>1</th>\n",
       "      <td>640.070000</td>\n",
       "      <td>350000</td>\n",
       "      <td>-990500</td>\n",
       "      <td>-609.599060</td>\n",
       "      <td>-350.180267</td>\n",
       "      <td>14.970725</td>\n",
       "    </tr>\n",
       "    <tr>\n",
       "      <th>2</th>\n",
       "      <td>670.948182</td>\n",
       "      <td>350000</td>\n",
       "      <td>-991000</td>\n",
       "      <td>-613.200928</td>\n",
       "      <td>-354.121796</td>\n",
       "      <td>18.842773</td>\n",
       "    </tr>\n",
       "    <tr>\n",
       "      <th>3</th>\n",
       "      <td>744.478000</td>\n",
       "      <td>350000</td>\n",
       "      <td>-999000</td>\n",
       "      <td>-601.518188</td>\n",
       "      <td>-431.617889</td>\n",
       "      <td>28.710297</td>\n",
       "    </tr>\n",
       "    <tr>\n",
       "      <th>4</th>\n",
       "      <td>88.767143</td>\n",
       "      <td>350500</td>\n",
       "      <td>-980000</td>\n",
       "      <td>-4.236681</td>\n",
       "      <td>-7.212046</td>\n",
       "      <td>839.294312</td>\n",
       "    </tr>\n",
       "    <tr>\n",
       "      <th>...</th>\n",
       "      <td>...</td>\n",
       "      <td>...</td>\n",
       "      <td>...</td>\n",
       "      <td>...</td>\n",
       "      <td>...</td>\n",
       "      <td>...</td>\n",
       "    </tr>\n",
       "    <tr>\n",
       "      <th>26910</th>\n",
       "      <td>1814.238750</td>\n",
       "      <td>549500</td>\n",
       "      <td>-931000</td>\n",
       "      <td>-27.916929</td>\n",
       "      <td>7.591064</td>\n",
       "      <td>1944.993652</td>\n",
       "    </tr>\n",
       "    <tr>\n",
       "      <th>26911</th>\n",
       "      <td>1841.431818</td>\n",
       "      <td>549500</td>\n",
       "      <td>-931500</td>\n",
       "      <td>-27.648539</td>\n",
       "      <td>7.504141</td>\n",
       "      <td>1946.265381</td>\n",
       "    </tr>\n",
       "    <tr>\n",
       "      <th>26912</th>\n",
       "      <td>2167.790000</td>\n",
       "      <td>549500</td>\n",
       "      <td>-972500</td>\n",
       "      <td>-19.729582</td>\n",
       "      <td>12.029580</td>\n",
       "      <td>2044.969360</td>\n",
       "    </tr>\n",
       "    <tr>\n",
       "      <th>26913</th>\n",
       "      <td>1115.707500</td>\n",
       "      <td>549500</td>\n",
       "      <td>-997500</td>\n",
       "      <td>-9.347669</td>\n",
       "      <td>3.989468</td>\n",
       "      <td>2049.606689</td>\n",
       "    </tr>\n",
       "    <tr>\n",
       "      <th>26914</th>\n",
       "      <td>1095.000625</td>\n",
       "      <td>549500</td>\n",
       "      <td>-998000</td>\n",
       "      <td>-8.680053</td>\n",
       "      <td>4.151607</td>\n",
       "      <td>2066.624023</td>\n",
       "    </tr>\n",
       "  </tbody>\n",
       "</table>\n",
       "<p>26915 rows × 6 columns</p>\n",
       "</div>"
      ],
      "text/plain": [
       "                 t       x       y          vx          vy            s\n",
       "0        95.892778  350000 -980000   -4.737582   -9.841386   782.167542\n",
       "1       640.070000  350000 -990500 -609.599060 -350.180267    14.970725\n",
       "2       670.948182  350000 -991000 -613.200928 -354.121796    18.842773\n",
       "3       744.478000  350000 -999000 -601.518188 -431.617889    28.710297\n",
       "4        88.767143  350500 -980000   -4.236681   -7.212046   839.294312\n",
       "...            ...     ...     ...         ...         ...          ...\n",
       "26910  1814.238750  549500 -931000  -27.916929    7.591064  1944.993652\n",
       "26911  1841.431818  549500 -931500  -27.648539    7.504141  1946.265381\n",
       "26912  2167.790000  549500 -972500  -19.729582   12.029580  2044.969360\n",
       "26913  1115.707500  549500 -997500   -9.347669    3.989468  2049.606689\n",
       "26914  1095.000625  549500 -998000   -8.680053    4.151607  2066.624023\n",
       "\n",
       "[26915 rows x 6 columns]"
      ]
     },
     "execution_count": 6,
     "metadata": {},
     "output_type": "execute_result"
    }
   ],
   "source": [
    "txyvxvys"
   ]
  },
  {
   "cell_type": "markdown",
   "metadata": {},
   "source": [
    "## Export pd.DataFrame as .csv"
   ]
  },
  {
   "cell_type": "code",
   "execution_count": 7,
   "metadata": {},
   "outputs": [],
   "source": [
    "txyvxvys.to_csv('data/training_byrd_points_txyvxvys.csv')"
   ]
  },
  {
   "cell_type": "markdown",
   "metadata": {},
   "source": [
    "## Export torch.tensor as .pt"
   ]
  },
  {
   "cell_type": "code",
   "execution_count": 8,
   "metadata": {},
   "outputs": [],
   "source": [
    "torch.save(torch.tensor(txyvxvys.values.T), \"data/training_byrd_points_txyvxvys.pt\")"
   ]
  },
  {
   "cell_type": "markdown",
   "metadata": {},
   "source": [
    "# Test data grid\n"
   ]
  },
  {
   "cell_type": "code",
   "execution_count": 9,
   "metadata": {},
   "outputs": [
    {
     "data": {
      "text/html": [
       "<div>\n",
       "<style scoped>\n",
       "    .dataframe tbody tr th:only-of-type {\n",
       "        vertical-align: middle;\n",
       "    }\n",
       "\n",
       "    .dataframe tbody tr th {\n",
       "        vertical-align: top;\n",
       "    }\n",
       "\n",
       "    .dataframe thead th {\n",
       "        text-align: right;\n",
       "    }\n",
       "</style>\n",
       "<table border=\"1\" class=\"dataframe\">\n",
       "  <thead>\n",
       "    <tr style=\"text-align: right;\">\n",
       "      <th></th>\n",
       "      <th>x</th>\n",
       "      <th>y</th>\n",
       "      <th>vx</th>\n",
       "      <th>vy</th>\n",
       "      <th>s</th>\n",
       "    </tr>\n",
       "  </thead>\n",
       "  <tbody>\n",
       "    <tr>\n",
       "      <th>0</th>\n",
       "      <td>350000.0</td>\n",
       "      <td>-800500.0</td>\n",
       "      <td>0.434341</td>\n",
       "      <td>-1.059710</td>\n",
       "      <td>2136.356445</td>\n",
       "    </tr>\n",
       "    <tr>\n",
       "      <th>1</th>\n",
       "      <td>350500.0</td>\n",
       "      <td>-800500.0</td>\n",
       "      <td>0.360998</td>\n",
       "      <td>-0.840221</td>\n",
       "      <td>2131.236816</td>\n",
       "    </tr>\n",
       "    <tr>\n",
       "      <th>2</th>\n",
       "      <td>351000.0</td>\n",
       "      <td>-800500.0</td>\n",
       "      <td>0.710688</td>\n",
       "      <td>-0.597217</td>\n",
       "      <td>2129.025879</td>\n",
       "    </tr>\n",
       "    <tr>\n",
       "      <th>3</th>\n",
       "      <td>351500.0</td>\n",
       "      <td>-800500.0</td>\n",
       "      <td>-0.105596</td>\n",
       "      <td>-0.570826</td>\n",
       "      <td>2127.416504</td>\n",
       "    </tr>\n",
       "    <tr>\n",
       "      <th>4</th>\n",
       "      <td>352000.0</td>\n",
       "      <td>-800500.0</td>\n",
       "      <td>-1.258299</td>\n",
       "      <td>-0.594211</td>\n",
       "      <td>2126.574951</td>\n",
       "    </tr>\n",
       "    <tr>\n",
       "      <th>...</th>\n",
       "      <td>...</td>\n",
       "      <td>...</td>\n",
       "      <td>...</td>\n",
       "      <td>...</td>\n",
       "      <td>...</td>\n",
       "    </tr>\n",
       "    <tr>\n",
       "      <th>159995</th>\n",
       "      <td>547500.0</td>\n",
       "      <td>-1000000.0</td>\n",
       "      <td>-5.763004</td>\n",
       "      <td>4.551172</td>\n",
       "      <td>2067.705078</td>\n",
       "    </tr>\n",
       "    <tr>\n",
       "      <th>159996</th>\n",
       "      <td>548000.0</td>\n",
       "      <td>-1000000.0</td>\n",
       "      <td>-7.035709</td>\n",
       "      <td>3.983489</td>\n",
       "      <td>2074.884766</td>\n",
       "    </tr>\n",
       "    <tr>\n",
       "      <th>159997</th>\n",
       "      <td>548500.0</td>\n",
       "      <td>-1000000.0</td>\n",
       "      <td>-8.368957</td>\n",
       "      <td>3.101594</td>\n",
       "      <td>2085.696777</td>\n",
       "    </tr>\n",
       "    <tr>\n",
       "      <th>159998</th>\n",
       "      <td>549000.0</td>\n",
       "      <td>-1000000.0</td>\n",
       "      <td>-8.271576</td>\n",
       "      <td>3.247080</td>\n",
       "      <td>2095.212646</td>\n",
       "    </tr>\n",
       "    <tr>\n",
       "      <th>159999</th>\n",
       "      <td>549500.0</td>\n",
       "      <td>-1000000.0</td>\n",
       "      <td>-7.614607</td>\n",
       "      <td>3.813080</td>\n",
       "      <td>2100.236572</td>\n",
       "    </tr>\n",
       "  </tbody>\n",
       "</table>\n",
       "<p>160000 rows × 5 columns</p>\n",
       "</div>"
      ],
      "text/plain": [
       "               x          y        vx        vy            s\n",
       "0       350000.0  -800500.0  0.434341 -1.059710  2136.356445\n",
       "1       350500.0  -800500.0  0.360998 -0.840221  2131.236816\n",
       "2       351000.0  -800500.0  0.710688 -0.597217  2129.025879\n",
       "3       351500.0  -800500.0 -0.105596 -0.570826  2127.416504\n",
       "4       352000.0  -800500.0 -1.258299 -0.594211  2126.574951\n",
       "...          ...        ...       ...       ...          ...\n",
       "159995  547500.0 -1000000.0 -5.763004  4.551172  2067.705078\n",
       "159996  548000.0 -1000000.0 -7.035709  3.983489  2074.884766\n",
       "159997  548500.0 -1000000.0 -8.368957  3.101594  2085.696777\n",
       "159998  549000.0 -1000000.0 -8.271576  3.247080  2095.212646\n",
       "159999  549500.0 -1000000.0 -7.614607  3.813080  2100.236572\n",
       "\n",
       "[160000 rows x 5 columns]"
      ]
     },
     "execution_count": 9,
     "metadata": {},
     "output_type": "execute_result"
    }
   ],
   "source": [
    "# reorder velocity columns and merge\n",
    "test_df = pd.merge(velocity_df[['x', 'y', 'vx', 'vy']], surface_df, on = ['x', 'y'], how = 'left')\n",
    "test_df"
   ]
  },
  {
   "cell_type": "markdown",
   "metadata": {},
   "source": [
    "## Export pd.DataFrame as .csv"
   ]
  },
  {
   "cell_type": "code",
   "execution_count": 10,
   "metadata": {},
   "outputs": [],
   "source": [
    "test_df.to_csv('data/test_byrd_grid_xyvxvys.csv')"
   ]
  },
  {
   "cell_type": "markdown",
   "metadata": {},
   "source": [
    "## Export torch.tensor as .pt"
   ]
  },
  {
   "cell_type": "code",
   "execution_count": 11,
   "metadata": {},
   "outputs": [],
   "source": [
    "torch.save(torch.tensor(test_df.values.T), \"data/test_byrd_grid_xyvxvys.pt\")"
   ]
  }
 ],
 "metadata": {
  "kernelspec": {
   "display_name": ".conda",
   "language": "python",
   "name": "python3"
  },
  "language_info": {
   "codemirror_mode": {
    "name": "ipython",
    "version": 3
   },
   "file_extension": ".py",
   "mimetype": "text/x-python",
   "name": "python",
   "nbconvert_exporter": "python",
   "pygments_lexer": "ipython3",
   "version": "3.9.20"
  }
 },
 "nbformat": 4,
 "nbformat_minor": 2
}
