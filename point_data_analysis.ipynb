{
 "cells": [
  {
   "cell_type": "code",
   "execution_count": 1,
   "metadata": {},
   "outputs": [],
   "source": [
    "import pandas as pd\n",
    "import numpy as np\n",
    "import matplotlib\n",
    "import matplotlib.pyplot as plt\n",
    "import xarray as xr"
   ]
  },
  {
   "cell_type": "code",
   "execution_count": 2,
   "metadata": {},
   "outputs": [],
   "source": [
    "byrd_bedmap_points = pd.read_csv('/home/kim/ice_thickness/data/byrd_200km.csv')\n",
    "path_to_file_server = 'data/byrd_bedmachine.nc'\n",
    "byrd_bedmachine = xr.open_dataset(path_to_file_server)"
   ]
  },
  {
   "cell_type": "code",
   "execution_count": 54,
   "metadata": {},
   "outputs": [
    {
     "data": {
      "text/plain": [
       "(400, 400)"
      ]
     },
     "execution_count": 54,
     "metadata": {},
     "output_type": "execute_result"
    }
   ],
   "source": [
    "byrd_bedmachine.bed.values.shape"
   ]
  },
  {
   "cell_type": "markdown",
   "metadata": {},
   "source": [
    "# Count per grid cell\n",
    "\n",
    "Assign IDs and groupby pixel IDs to then compute std, count and mean\n",
    "Sample minimum one per grid cell"
   ]
  },
  {
   "cell_type": "raw",
   "metadata": {
    "vscode": {
     "languageId": "raw"
    }
   },
   "source": [
    "centroid_to_boundry = 250\n",
    "\n",
    "# Add columns to store pixel center\n",
    "byrd_bedmap_points[\"x_pixel_center\"] = np.nan\n",
    "byrd_bedmap_points[\"y_pixel_center\"] = np.nan\n",
    "\n",
    "for xi in byrd_bedmachine.x.values:\n",
    "    for yi in byrd_bedmachine.y.values:\n",
    "        # Do as little in loop as possible\n",
    "        x_min = xi - centroid_to_boundry\n",
    "        x_max = xi + centroid_to_boundry\n",
    "        y_min = yi - centroid_to_boundry\n",
    "        y_max = yi + centroid_to_boundry\n",
    "\n",
    "        # If points are in this pixel, assign centroids as identifiers\n",
    "        byrd_bedmap_points.loc[(byrd_bedmap_points[\"x\"] > x_min) & \n",
    "                           (byrd_bedmap_points[\"x\"] < x_max) & \n",
    "                           (byrd_bedmap_points[\"y\"] > y_min) & \n",
    "                           (byrd_bedmap_points[\"y\"] < y_max), [\"x_pixel_center\", \"y_pixel_center\"]] = [[xi, yi]]\n",
    "        \n",
    "# Save to csv once (because it takes 6 min to compute)\n",
    "byrd_bedmap_points.to_csv('/home/kim/ice_thickness/data/byrd_200km_assigned_to_pixels.csv')"
   ]
  },
  {
   "cell_type": "code",
   "execution_count": 48,
   "metadata": {},
   "outputs": [],
   "source": [
    "byrd_bedmap_points_assigned = pd.read_csv('/home/kim/ice_thickness/data/byrd_200km_assigned_to_pixels.csv')"
   ]
  },
  {
   "cell_type": "markdown",
   "metadata": {},
   "source": [
    "## Create IDs"
   ]
  },
  {
   "cell_type": "code",
   "execution_count": 49,
   "metadata": {},
   "outputs": [],
   "source": [
    "# Make categocial column based on grid cell index\n",
    "byrd_bedmap_points_assigned[\"id_500\"] = byrd_bedmap_points_assigned[\"x_pixel_center\"].astype(int).astype(str) + \"_\" + byrd_bedmap_points_assigned[\"y_pixel_center\"].astype(int).astype(str)"
   ]
  },
  {
   "cell_type": "markdown",
   "metadata": {},
   "source": [
    "# Group by\n",
    "\n",
    "400 x 400 cells"
   ]
  },
  {
   "cell_type": "code",
   "execution_count": 59,
   "metadata": {},
   "outputs": [
    {
     "data": {
      "text/plain": [
       "0.17030625"
      ]
     },
     "execution_count": 59,
     "metadata": {},
     "output_type": "execute_result"
    }
   ],
   "source": [
    "# Rate of grid cells with assigned points\n",
    "byrd_bedmap_points_assigned.groupby(\"id_500\").size().sort_values(ascending = False).shape[0]/(400*400)"
   ]
  },
  {
   "cell_type": "code",
   "execution_count": 69,
   "metadata": {},
   "outputs": [],
   "source": [
    "means_per_pixel = byrd_bedmap_points_assigned.loc[:, [\"id_500\", \"t\"]].groupby(\"id_500\").mean()\n",
    "\n",
    "std_per_pixel = byrd_bedmap_points_assigned.loc[:, [\"id_500\", \"t\"]].groupby(\"id_500\").std()\n",
    "# std is NaN for grid cells with only one point assigned\n",
    "\n",
    "sem_per_pixel = byrd_bedmap_points_assigned.loc[:, [\"id_500\", \"t\"]].groupby(\"id_500\").sem()\n",
    "# std / np.art(count)\n",
    "\n",
    "count_per_pixel = byrd_bedmap_points_assigned.loc[:, [\"id_500\", \"t\"]].groupby(\"id_500\").count()\n",
    "\n",
    "combined_metrics = pd.merge(pd.merge(means_per_pixel, std_per_pixel, on = \"id_500\", suffixes = (\"_mean\", \"_std\")), count_per_pixel, on = \"id_500\")\n",
    "# Afterthought: order should be identicla so don't need to merge"
   ]
  },
  {
   "cell_type": "markdown",
   "metadata": {},
   "source": [
    "# Add this to a xarray dataset"
   ]
  },
  {
   "cell_type": "code",
   "execution_count": null,
   "metadata": {},
   "outputs": [],
   "source": []
  }
 ],
 "metadata": {
  "kernelspec": {
   "display_name": "Python 3",
   "language": "python",
   "name": "python3"
  },
  "language_info": {
   "codemirror_mode": {
    "name": "ipython",
    "version": 3
   },
   "file_extension": ".py",
   "mimetype": "text/x-python",
   "name": "python",
   "nbconvert_exporter": "python",
   "pygments_lexer": "ipython3",
   "version": "3.8.12"
  }
 },
 "nbformat": 4,
 "nbformat_minor": 2
}
