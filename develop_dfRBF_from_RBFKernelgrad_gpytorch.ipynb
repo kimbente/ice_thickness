{
 "cells": [
  {
   "cell_type": "code",
   "execution_count": 1,
   "id": "2058369f",
   "metadata": {},
   "outputs": [],
   "source": [
    "import gpytorch\n",
    "import torch\n",
    "import matplotlib.pyplot as plt\n",
    "import linear_operator"
   ]
  },
  {
   "cell_type": "code",
   "execution_count": 128,
   "id": "4a0ad402",
   "metadata": {},
   "outputs": [],
   "source": [
    "x1 = torch.linspace(0, 1, steps = 10).unsqueeze(-1)\n",
    "x2 = torch.linspace(10, 100, steps = 10).unsqueeze(-1)\n",
    "x = torch.cat([x1, x2], dim = -1)\n",
    "\n",
    "covar_module = gpytorch.kernels.ScaleKernel(gpytorch.kernels.RBFKernelGrad(ard_num_dims = 2, lengthscale_constraint = gpytorch.constraints.GreaterThan(1e-5)))\n",
    "covar_module.base_kernel.lengthscale = torch.tensor([1.0, 1.5])\n",
    "covar = covar_module(x)"
   ]
  },
  {
   "cell_type": "code",
   "execution_count": 129,
   "id": "184d37ab",
   "metadata": {},
   "outputs": [
    {
     "data": {
      "text/plain": [
       "tensor([[0.69, 0.00, 0.00],\n",
       "        [0.00, 0.69, 0.00],\n",
       "        [0.00, 0.00, 0.31]], grad_fn=<SliceBackward0>)"
      ]
     },
     "execution_count": 129,
     "metadata": {},
     "output_type": "execute_result"
    }
   ],
   "source": [
    "covar.to_dense()[0:3, 0:3]"
   ]
  },
  {
   "cell_type": "code",
   "execution_count": null,
   "id": "b5ec6937",
   "metadata": {},
   "outputs": [
    {
     "data": {
      "text/plain": [
       "<matplotlib.image.AxesImage at 0x7faf244388b0>"
      ]
     },
     "execution_count": 130,
     "metadata": {},
     "output_type": "execute_result"
    },
    {
     "data": {
      "image/png": "[encoded data removed]",
      "text/plain": [
       "<Figure size 640x480 with 1 Axes>"
      ]
     },
     "metadata": {},
     "output_type": "display_data"
    }
   ],
   "source": [
    "plt.imshow(covar.to_dense().detach().numpy(), cmap = 'viridis')"
   ]
  },
  {
   "cell_type": "code",
   "execution_count": null,
   "id": "89a9345f",
   "metadata": {},
   "outputs": [
    {
     "name": "stdout",
     "output_type": "stream",
     "text": [
      "torch.Size([])\n",
      "10 9 2\n",
      "torch.Size([])\n",
      "10 9 2\n"
     ]
    },
    {
     "data": {
      "text/plain": [
       "torch.Size([20, 18])"
      ]
     },
     "execution_count": 125,
     "metadata": {},
     "output_type": "execute_result"
    }
   ],
   "source": [
    "x1 = x\n",
    "x2 = x[0:9]\n",
    "\n",
    "batch_shape = x1.shape[:-2]\n",
    "# 0 if only 2D\n",
    "print(batch_shape)\n",
    "N, d = x1.shape[-2:]\n",
    "# d must be same\n",
    "n2 = x2.shape[-2]\n",
    "print(N, n2, d)\n",
    "\n",
    "# Initialises K: torch.Size([30, 27])\n",
    "K = torch.zeros(*batch_shape, n1 * (d + 1), n2 * (d + 1), device = x1.device, dtype = x1.dtype)\n",
    "\n",
    "l1 = 0.5\n",
    "l2 = 1.0\n",
    "\n",
    "lengthscale = torch.tensor([l1, l2], device=x1.device, dtype=x1.dtype)\n",
    "\n",
    "# Each dim is scaled by it's represctive lengthscale\n",
    "x1_ = x1.div(lengthscale)\n",
    "x2_ = x2.div(lengthscale)\n",
    "\n",
    "# outer[:, :, 0] are x1-x1'/l1\n",
    "# outer[:, :, 1] are x2-x2'/l2\n",
    "outer = x1_.view(*batch_shape, n1, 1, d) - x2_.view(*batch_shape, 1, n2, d) # torch.Size([10, 9, 2])\n",
    "# manual = (x1[:, 0].unsqueeze(-1) - x2[:, 0].unsqueeze(0)).div(l1)\n",
    "# manual == outer[:, :, 0]  # torch.Size([10, 9])\n",
    "\n",
    "# lengthscale.unsqueeze(-2): torch.Size([1, 2])\n",
    "# torch.Size([10, 9, 2]) now x1-x1'/l1/l1\n",
    "outer = outer / lengthscale.unsqueeze(-2)\n",
    "# torch.Size([10, 2, 9]) N, D, M : swops last two dims\n",
    "outer_now = torch.transpose(outer, -1, -2).contiguous()\n",
    "\n",
    "# 1) Kernel block\n",
    "from gpytorch.kernels.rbf_kernel import postprocess_rbf, RBFKernel\n",
    "RBFKernel = gpytorch.kernels.RBFKernel(ard_num_dims = 2, lengthscale_constraint = gpytorch.constraints.GreaterThan(1e-5))\n",
    "# function from RBF class\n",
    "diff = RBFKernel.covar_dist(x1_, x2_, square_dist = True, lengthscale = lengthscale)\n",
    "K_11 = postprocess_rbf(diff)\n",
    "# blockwise assignment\n",
    "K[..., :N, :n2] = K_11\n",
    "\n",
    "# 2) First gradient block (uv)\n",
    "outer1 = outer.view(*batch_shape, N, n2 * d)\n",
    "# where does n_batch_dims come from?\n",
    "n_batch_dims = len(batch_shape)\n",
    "# x1 = x\n",
    "x2 = x[0:9]\n",
    "\n",
    "batch_shape = x1.shape[:-2]\n",
    "# 0 if only 2D\n",
    "print(batch_shape)\n",
    "N, d = x1.shape[-2:]\n",
    "# d must be same\n",
    "n2 = x2.shape[-2]\n",
    "print(N, n2, d)\n",
    "\n",
    "# Initialises K: torch.Size([30, 27])\n",
    "K = torch.zeros(*batch_shape, n1 * (d + 1), n2 * (d + 1), device = x1.device, dtype = x1.dtype)\n",
    "\n",
    "l1 = 0.5\n",
    "l2 = 1.0\n",
    "\n",
    "lengthscale = torch.tensor([l1, l2], device=x1.device, dtype=x1.dtype)\n",
    "\n",
    "# Each dim is scaled by it's represctive lengthscale\n",
    "x1_ = x1.div(lengthscale)\n",
    "x2_ = x2.div(lengthscale)\n",
    "\n",
    "# outer[:, :, 0] are x1-x1'/l1\n",
    "# outer[:, :, 1] are x2-x2'/l2\n",
    "outer = x1_.view(*batch_shape, n1, 1, d) - x2_.view(*batch_shape, 1, n2, d) # torch.Size([10, 9, 2])\n",
    "# manual = (x1[:, 0].unsqueeze(-1) - x2[:, 0].unsqueeze(0)).div(l1)\n",
    "# manual == outer[:, :, 0]  # torch.Size([10, 9])\n",
    "\n",
    "# lengthscale.unsqueeze(-2): torch.Size([1, 2])\n",
    "# torch.Size([10, 9, 2]) now x1-x1'/l1^2\n",
    "outer = outer / lengthscale.unsqueeze(-2)\n",
    "# torch.Size([10, 2, 9]) N, D, M : swops last two dims\n",
    "outer = torch.transpose(outer, -1, -2).contiguous()\n",
    "\n",
    "# 1) Kernel block\n",
    "from gpytorch.kernels.rbf_kernel import postprocess_rbf, RBFKernel\n",
    "RBFKernel = gpytorch.kernels.RBFKernel(ard_num_dims = 2, lengthscale_constraint = gpytorch.constraints.GreaterThan(1e-5))\n",
    "# function from RBF class\n",
    "diff = RBFKernel.covar_dist(x1_, x2_, square_dist = True, lengthscale = lengthscale)\n",
    "K_11 = postprocess_rbf(diff)\n",
    "# blockwise assignment\n",
    "K[..., :n1, :n2] = K_11\n",
    "\n",
    "# 2) First gradient block (uv)\n",
    "outer1 = outer.view(*batch_shape, n1, n2 * d)\n",
    "# where does n_batch_dims come from?\n",
    "n_batch_dims = len(batch_shape)\n",
    "# torch.Size([10, 18]) \n",
    "K[..., :n1, n2:] = outer1 * K_11.repeat([*([1] * (n_batch_dims + 1)), d])\n",
    "# (outer1 * K_11.repeat([*([1] * (n_batch_dims + 1)), d])).shape\n",
    "\n",
    "# 3) Second gradient block (vu)\n",
    "outer2 = outer.transpose(-1, -3).reshape(*batch_shape, n2, n1 * d)\n",
    "outer2 = outer2.transpose(-1, -2)\n",
    "# torch.Size([20, 9]) lower left (tall)\n",
    "K[..., n1:, :n2] = -outer2 * K_11.repeat([*([1] * n_batch_dims), d, 1])\n",
    "# (-outer2 * K_11.repeat([*([1] * n_batch_dims), d, 1])).shape\n",
    "\n",
    "# 4) Hessian block (second derivates)\n",
    "# torch.Size([20, 18]) & torch.Size([20, 18])\n",
    "outer3 = outer1.repeat([*([1] * n_batch_dims), d, 1]) * outer2.repeat([*([1] * (n_batch_dims + 1)), d])\n",
    "# torch.Size([20, 18])\n",
    "# first torch.Size([10, 9]) block is just filled with 1/l1**2\n",
    "# second (top right) torch.Size([10, 9]) block is zeros\n",
    "# third (bottom left) torch.Size([10, 9]) block is zeros\n",
    "# fourth (bottom right) torch.Size([10, 9]) block is filled with 1/l2**2\n",
    "kp = linear_operator.operators.KroneckerProductLinearOperator(\n",
    "                # [(1/l1^2), 0][0, 1/l2^2]\n",
    "                torch.eye(d, d, device=x1.device, dtype=x1.dtype).repeat(*batch_shape, 1, 1) / lengthscale.pow(2),\n",
    "                # torch.Size([10, 9]) filled with ones\n",
    "                torch.ones(n1, n2, device=x1.device, dtype=x1.dtype).repeat(*batch_shape, 1, 1),\n",
    "            )\n",
    "\n",
    "# 1 /l1**2 - outer3\n",
    "# torch.Size([20, 18]) with 4 big blocks\n",
    "chain_rule = kp.to_dense() - outer3\n",
    "torch.set_printoptions(precision=2, sci_mode=False)\n",
    "# elementswise mul torch.Size([20, 18])\n",
    "K[..., n1:, n2:] = chain_rule * K_11.repeat([*([1] * n_batch_dims), d, d])"
   ]
  },
  {
   "cell_type": "markdown",
   "id": "a389901a",
   "metadata": {},
   "source": [
    "# draft my own"
   ]
  },
  {
   "cell_type": "code",
   "execution_count": null,
   "id": "fecf7174",
   "metadata": {},
   "outputs": [],
   "source": [
    "import torch\n",
    "from linear_operator.operators import KroneckerProductLinearOperator\n",
    "from gpytorch.kernels.rbf_kernel import postprocess_rbf, RBFKernel\n",
    "\n",
    "\n",
    "class dfRBFKernel(RBFKernel):\n",
    "    r\"\"\"\n",
    "    Computes a divergence-free RBF covariance matrix of the RBF kernel that models the covariance\n",
    "    for inputs :math:`\\mathbf{x_1}` and :math:`\\mathbf{x_2}`. The code is heavily based on the Hessian component of the RBF grad kernel, also inheriting from Gpytorch's RBF kernel (see source code here: https://docs.gpytorch.ai/en/stable/_modules/gpytorch/kernels/rbf_kernel_grad.html#RBFKernelGrad) to enable computational speed ups.\n",
    "\n",
    "    Notes: \n",
    "    - This only works for 2D currently. \n",
    "    - Uses self.lengthscale object.\n",
    "\n",
    "    See :class:`gpytorch.kernels.Kernel` for descriptions of the lengthscale options.\n",
    "\n",
    "    .. note::\n",
    "\n",
    "        This kernel does not have an `outputscale` parameter. To add a scaling parameter,\n",
    "        decorate this kernel with a :class:`gpytorch.kernels.ScaleKernel`.\n",
    "\n",
    "    :param ard_num_dims: Set this if you want a separate lengthscale for each input\n",
    "        dimension. It should be `d` if x1 is a `n x d` matrix. (Default: `None`.)\n",
    "    :param batch_shape: Set this if you want a separate lengthscale for each batch of input\n",
    "        data. It should be :math:`B_1 \\times \\ldots \\times B_k` if :math:`\\mathbf x1` is\n",
    "        a :math:`B_1 \\times \\ldots \\times B_k \\times N \\times D` tensor.\n",
    "    :param active_dims: Set this if you want to compute the covariance of only\n",
    "        a few input dimensions. The ints corresponds to the indices of the\n",
    "        dimensions. (Default: `None`.)\n",
    "    :param lengthscale_prior: Set this if you want to apply a prior to the\n",
    "        lengthscale parameter. (Default: `None`)\n",
    "    :param lengthscale_constraint: Set this if you want to apply a constraint\n",
    "        to the lengthscale parameter. (Default: `Positive`.)\n",
    "    :param eps: The minimum value that the lengthscale can take (prevents\n",
    "        divide by zero errors). (Default: `1e-6`.)\n",
    "\n",
    "    :ivar torch.Tensor lengthscale: The lengthscale parameter. Size/shape of parameter depends on the\n",
    "        ard_num_dims and batch_shape arguments.\n",
    "\n",
    "    Example:\n",
    "        >>> x = torch.randn(10, 2)\n",
    "        >>> # Non-batch: Simple option\n",
    "        >>> covar_module = gpytorch.kernels.ScaleKernel(gpytorch.kernels.dfRBFKernel())\n",
    "        >>> covar = covar_module(x)  # Output: LinearOperator of size (20 x 20), where 20 = n * d\n",
    "    \"\"\"\n",
    "\n",
    "    def forward(self, x1, x2, diag = False, **params):\n",
    "\n",
    "        ### STEP 1: EXTRACT BATCHES & DIMS ###\n",
    "\n",
    "        # BATCHES\n",
    "        # NOTE: We write this in a batch compatible way, using negative indexing (from the right)\n",
    "        # batch_shape is torch.Size([]) if only 2D\n",
    "        batch_shape = x1.shape[:-2]\n",
    "        # usually zero, one, or two\n",
    "        n_batch_dims = len(batch_shape)\n",
    "\n",
    "        # DIMS\n",
    "        N, d = x1.shape[-2:]\n",
    "        # d must be same\n",
    "        M = x2.shape[-2]\n",
    "\n",
    "        # We save compute when diag = True by only computing what is needed\n",
    "        if not diag:\n",
    "\n",
    "            ### STEP 2: DIRECTIONAL SCALED DIFFERENCES ###\n",
    "            # Scale the inputs by the lengthscale(s) (e.g. two lengthscales if ard_num_dims = 2)\n",
    "            # HACK: Applying div before subtracting increases stability\n",
    "            x1_ = x1.div(self.lengthscale)\n",
    "            x2_ = x2.div(self.lengthscale)\n",
    "\n",
    "            # Broadcast and compute directional (scaled) differences (..., N, M, d)\n",
    "            directional_scaled_diffs = x1_.view(*batch_shape, N, 1, d) - x2_.view(*batch_shape, 1, M, d)\n",
    "            # Divide by lengthscales again to get directional_scaled_diffs: (x1 - x2) / ℓ^2\n",
    "            # lengthscale e.g. shape (1, 2) (unsqueeze to broadcast)\n",
    "            directional_scaled_diffs = directional_scaled_diffs / self.lengthscale.unsqueeze(-2)\n",
    "\n",
    "            # HACK: Flip the last axis to have d2, d1 ordering. The off-diagonals thus remain the same while the diagonals are flipped. This is new for the dfRBF kernel.\n",
    "            directional_scaled_diffs = torch.flip(directional_scaled_diffs, dims = [-1])\n",
    "\n",
    "            # (..., N, d, M): swops last two dims\n",
    "            directional_scaled_diffs = torch.transpose(directional_scaled_diffs, -1, -2).contiguous()\n",
    "\n",
    "            # torch.Size([..., N, d * M]) where the first M indices are d1 and the latter M indices are d2 for 2d\n",
    "            # d1 diffs are the left block, d2 diffs are the right block\n",
    "            directional_scaled_diffs_N_rows_wide = directional_scaled_diffs.view(*batch_shape, N, d * M)\n",
    "            \n",
    "            # transpose swop N and M so makes torch.Size([..., M, d, N])\n",
    "            # reshape torch.Size([..., M, d * N])\n",
    "            directional_scaled_diffs_M_rows_wide = directional_scaled_diffs.transpose(-1, -3).reshape(*batch_shape, M, d * N)\n",
    "            # d1 diffs are the upper block, d2 diffs are the lower block\n",
    "            directional_scaled_diffs_2N_rows_tall = directional_scaled_diffs_M_rows_wide.transpose(-1, -2)\n",
    "\n",
    "            # 1) Kernel block\n",
    "            # NOTE: as an instance of the RBF kernel, we can use the covar_dist method to compute the squared distance;\n",
    "            # This uses our lengthscale.\n",
    "            diff = self.covar_dist(x1_, x2_, square_dist = True, **params)\n",
    "            # torch.Size([..., N, M])\n",
    "            K_rbf = postprocess_rbf(diff)\n",
    "\n",
    "            ### STEP 4: BLOCKWISE ASSIGNMENTS ###\n",
    "            # torch.Size([..., N * d, M * d])\n",
    "            # First term: Last axis stays the same, second last axis (rows) is repeated\n",
    "            directional_scaled_diffs_two_rows = directional_scaled_diffs_N_rows_wide.repeat([*([1] * n_batch_dims), d, 1]) \n",
    "            # Second term: Last axis (columns) is repeated, second last axis (rows) stays the same\n",
    "            directional_scaled_diffs_two_columns = directional_scaled_diffs_2N_rows_tall.repeat([*([1] * (n_batch_dims + 1)), d])\n",
    "\n",
    "            # Upper left is r_1**2/l_1**4\n",
    "            # Upper right and lower left are r_1 * r_2 / (l_1**2 * l_2**2)\n",
    "            # Lower right is r_2**2 / l_2**4\n",
    "            directional_scaled_diffs_product_block = directional_scaled_diffs_two_rows * directional_scaled_diffs_two_columns\n",
    "\n",
    "            ### STEP 5: SIGN BLOCK ###\n",
    "            # Create sign block to negate off-diagonal blocks\n",
    "            sign_block = KroneckerProductLinearOperator(\n",
    "                torch.tensor([[1., -1.], [-1., 1.]], device = x1.device, dtype = x1.dtype).repeat(*batch_shape, 1, 1),\n",
    "                torch.ones(N, M, device = x1.device, dtype = x1.dtype).repeat(*batch_shape, 1, 1)\n",
    "            )\n",
    "\n",
    "            directional_scaled_diffs_product_block = sign_block * directional_scaled_diffs_product_block\n",
    "\n",
    "            ### STEP 6: KRONECKER PRODUCT BLOCK ###\n",
    "            # torch.Size([..., N * d, M * d])\n",
    "            kp = KroneckerProductLinearOperator(\n",
    "                        # Upper left block is (1/l1^2)\n",
    "                        # Lower right block is (1/l2^2)\n",
    "                        # Upper right and lower left blocks are (0)\n",
    "                        # HACK: Flip the last axis to match the dfRBF ordering. This is another change from the RBF grad kernel.\n",
    "                        torch.eye(d, d, device = x1.device, dtype = x1.dtype).repeat(*batch_shape, 1, 1) / lengthscale.flip(-1).pow(2),\n",
    "                        # Expand\n",
    "                        torch.ones(N, M, device = x1.device, dtype = x1.dtype).repeat(*batch_shape, 1, 1),\n",
    "                    )\n",
    "            \n",
    "            ### STEP 6: SUBTRACT BLOCKS ###\n",
    "            # Upper left block is (1/l1^2 - product)\n",
    "            # Lower right block is (1/l2^2 - product)\n",
    "            # Upper right and lower left blocks are (0 - product), resulting in the negative product\n",
    "            subtracted_blocks = kp.to_dense() - directional_scaled_diffs_product_block\n",
    "            # repeat K_rbf d * d times\n",
    "            K = subtracted_blocks * K_rbf.repeat([*([1] * n_batch_dims), d, d])\n",
    "\n",
    "            # Symmetrize for stability (Not for K_train_test of course)\n",
    "            if N == M and torch.eq(x1, x2).all():\n",
    "                K = 0.5 * (K.transpose(-1, -2) + K)\n",
    "\n",
    "            # Apply a perfect shuffle permutation to match the MutiTask ordering\n",
    "            pi1 = torch.arange(N * d).view(d, N).t().reshape((N * d))\n",
    "            pi2 = torch.arange(M * d).view(d, M).t().reshape((M * d))\n",
    "            K = K[..., pi1, :][..., :, pi2]\n",
    "\n",
    "            return K\n",
    "\n",
    "        # If diag = True, we only compute the diagonal elements\n",
    "        else:\n",
    "            if not (N == M and torch.eq(x1, x2).all()):\n",
    "                raise RuntimeError(\"diag = True only works when x1 == x2\")\n",
    "            \n",
    "            # NOTE: We have to flip the last axis of lengthscale to match the dfRBF ordering.\n",
    "            grad_diag = torch.ones(*batch_shape, M, d, device = x1.device, dtype = x1.dtype) / lengthscale.flip(-1).pow(2)\n",
    "            grad_diag = grad_diag.transpose(-1, -2).reshape(*batch_shape, M * d)\n",
    "\n",
    "            # The permutation indices for the diagonal elements to match interleaved format in Multitask settinga\n",
    "            pi = torch.arange(M * d).view(d, M).t().reshape((M * d))\n",
    "            return grad_diag[..., pi]\n",
    "\n",
    "    def num_outputs_per_input(self, x1, x2):\n",
    "        return x1.size(-1)"
   ]
  },
  {
   "cell_type": "markdown",
   "id": "2b0e047c",
   "metadata": {},
   "source": [
    "# Write only Hessian portion in my language with annotation"
   ]
  },
  {
   "cell_type": "code",
   "execution_count": 31,
   "id": "9199e2b9",
   "metadata": {},
   "outputs": [],
   "source": [
    "### HESSIAN BLOCK ###\n",
    "\n",
    "import torch\n",
    "from linear_operator.operators import KroneckerProductLinearOperator\n",
    "from gpytorch.kernels.rbf_kernel import postprocess_rbf, RBFKernel\n",
    "\n",
    "x1 = torch.linspace(0, 1, steps = 10).unsqueeze(-1)\n",
    "x2 = torch.linspace(10, 100, steps = 10).unsqueeze(-1)\n",
    "x = torch.cat([x1, x2], dim = -1)\n",
    "\n",
    "x1 = x\n",
    "# keep indices seperable\n",
    "x2 = x[0:9]\n",
    "\n",
    "diag = False\n",
    "l1 = 0.5 * 5\n",
    "l2 = 1.0 * 5\n",
    "lengthscale = torch.tensor([l1, l2], device = x1.device, dtype = x1.dtype)\n",
    "\n",
    "# BATCHES\n",
    "# NOTE: We write this in a batch compatible way, using negative indexing (from the right)\n",
    "# batch_shape is torch.Size([]) if only 2D\n",
    "batch_shape = x1.shape[:-2]\n",
    "# usually zero, one, or two\n",
    "n_batch_dims = len(batch_shape)\n",
    "\n",
    "# DIMS\n",
    "N, d = x1.shape[-2:]\n",
    "# d must be same\n",
    "M = x2.shape[-2]\n",
    "\n",
    "# We save compute when diag = True by only computing what is needed\n",
    "if not diag:\n",
    "\n",
    "    # K = torch.zeros(*batch_shape, N * d, M * d, device = x1.device, dtype = x1.dtype)\n",
    "\n",
    "    ### STEP 2: DIRECTIONAL SCALED DIFFERENCES ###\n",
    "    # Scale the inputs by the lengthscale(s) (e.g. two lengthscales if ard_num_dims = 2)\n",
    "    # HACK: Applying div before subtracting increases stability\n",
    "    x1_ = x1.div(lengthscale)\n",
    "    x2_ = x2.div(lengthscale)\n",
    "\n",
    "    # Broadcast and compute directional (scaled) differences (..., N, M, d)\n",
    "    directional_scaled_diffs = x1_.view(*batch_shape, N, 1, d) - x2_.view(*batch_shape, 1, M, d)\n",
    "    # Divide by lengthscales again to get directional_scaled_diffs: (x1 - x2) / ℓ^2\n",
    "    # lengthscale e.g. shape (1, 2) (unsqueeze to broadcast)\n",
    "    directional_scaled_diffs = directional_scaled_diffs / lengthscale.unsqueeze(-2)\n",
    "    # (..., N, d, M): swops last two dims\n",
    "    directional_scaled_diffs = torch.transpose(directional_scaled_diffs, -1, -2).contiguous()\n",
    "\n",
    "    # torch.Size([..., N, d * M]) where the first M indices are d1 and the latter M indices are d2 for 2d\n",
    "    # d1 diffs are the left block, d2 diffs are the right block\n",
    "    directional_scaled_diffs_N_rows_wide = directional_scaled_diffs.view(*batch_shape, N, d * M)\n",
    "    \n",
    "    # transpose swop N and M so makes torch.Size([..., M, d, N])\n",
    "    # reshape torch.Size([..., M, d * N])\n",
    "    directional_scaled_diffs_M_rows_wide = directional_scaled_diffs.transpose(-1, -3).reshape(*batch_shape, M, d * N)\n",
    "    # d1 diffs are the upper block, d2 diffs are the lower block\n",
    "    directional_scaled_diffs_2N_rows_tall = directional_scaled_diffs_M_rows_wide.transpose(-1, -2)\n",
    "\n",
    "    ### STEP 3: RBF BLOCK ###\n",
    "    RBFKernel = gpytorch.kernels.RBFKernel(ard_num_dims = 2, lengthscale_constraint = gpytorch.constraints.GreaterThan(1e-5))\n",
    "    diff = RBFKernel.covar_dist(x1_, x2_, square_dist = True, lengthscale = lengthscale)\n",
    "    # torch.Size([..., N, M])\n",
    "    K_rbf = postprocess_rbf(diff)\n",
    "\n",
    "    ### STEP 4: BLOCKWISE ASSIGNMENTS ###\n",
    "    # torch.Size([..., N * d, M * d])\n",
    "    # First term: Last axis stays the same, second last axis (rows) is repeated\n",
    "    directional_scaled_diffs_two_rows = directional_scaled_diffs_N_rows_wide.repeat([*([1] * n_batch_dims), d, 1]) \n",
    "    # Second term: Last axis (columns) is repeated, second last axis (rows) stays the same\n",
    "    directional_scaled_diffs_two_columns = directional_scaled_diffs_2N_rows_tall.repeat([*([1] * (n_batch_dims + 1)), d])\n",
    "\n",
    "    # Upper left is r_1**2/l_1**4\n",
    "    # Upper right and lower left are r_1 * r_2 / (l_1**2 * l_2**2)\n",
    "    # Lower right is r_2**2 / l_2**4\n",
    "    directional_scaled_diffs_product_block = directional_scaled_diffs_two_rows * directional_scaled_diffs_two_columns\n",
    "\n",
    "    ### STEP 5: KRONECKER PRODUCT BLOCK ###\n",
    "    # torch.Size([..., N * d, M * d])\n",
    "    kp = KroneckerProductLinearOperator(\n",
    "                # Upper left block is (1/l1^2)\n",
    "                # Lower right block is (1/l2^2)\n",
    "                # Upper right and lower left blocks are (0)\n",
    "                torch.eye(d, d, device = x1.device, dtype = x1.dtype).repeat(*batch_shape, 1, 1) / lengthscale.pow(2),\n",
    "                # Expand\n",
    "                torch.ones(N, M, device = x1.device, dtype = x1.dtype).repeat(*batch_shape, 1, 1),\n",
    "            )\n",
    "    \n",
    "    ### STEP 6: SUBTRACT BLOCKS ###\n",
    "    # Upper left block is (1/l1^2 - product)\n",
    "    # Lower right block is (1/l2^2 - product)\n",
    "    # Upper right and lower left blocks are (0 - product), resulting in the negative product\n",
    "    subtracted_blocks = kp.to_dense() - directional_scaled_diffs_product_block\n",
    "    # repeat K_rbf d * d times\n",
    "    K_hess = subtracted_blocks * K_rbf.repeat([*([1] * n_batch_dims), d, d])"
   ]
  },
  {
   "cell_type": "code",
   "execution_count": 34,
   "id": "83b4471a",
   "metadata": {},
   "outputs": [
    {
     "data": {
      "text/plain": [
       "<matplotlib.image.AxesImage at 0x7fe364dd8af0>"
      ]
     },
     "execution_count": 34,
     "metadata": {},
     "output_type": "execute_result"
    },
    {
     "data": {
      "image/png": "[encoded data removed]",
      "text/plain": [
       "<Figure size 640x480 with 1 Axes>"
      ]
     },
     "metadata": {},
     "output_type": "display_data"
    }
   ],
   "source": [
    "plt.imshow(K_hess.to_dense().detach().numpy(), cmap = 'viridis')"
   ]
  },
  {
   "cell_type": "markdown",
   "id": "56015d86",
   "metadata": {},
   "source": [
    "# Make changes to get dfRBF"
   ]
  },
  {
   "cell_type": "code",
   "execution_count": 66,
   "id": "879d3a77",
   "metadata": {},
   "outputs": [],
   "source": [
    "### dfRBF BLOCK ###\n",
    "\n",
    "import torch\n",
    "from linear_operator.operators import KroneckerProductLinearOperator\n",
    "from gpytorch.kernels.rbf_kernel import postprocess_rbf, RBFKernel\n",
    "\n",
    "x1 = torch.linspace(0, 1, steps = 10).unsqueeze(-1)\n",
    "x2 = torch.linspace(10, 100, steps = 10).unsqueeze(-1)\n",
    "x = torch.cat([x1, x2], dim = -1)\n",
    "\n",
    "x1 = x\n",
    "# keep indices seperable\n",
    "# x2 = x[0:9]\n",
    "# For diagonal test\n",
    "x2 = x\n",
    "\n",
    "diag = False\n",
    "l1 = 0.5 * 5\n",
    "l2 = 1.0 * 5\n",
    "lengthscale = torch.tensor([l1, l2], device = x1.device, dtype = x1.dtype)\n",
    "\n",
    "# BATCHES\n",
    "# NOTE: We write this in a batch compatible way, using negative indexing (from the right)\n",
    "# batch_shape is torch.Size([]) if only 2D\n",
    "batch_shape = x1.shape[:-2]\n",
    "# usually zero, one, or two\n",
    "n_batch_dims = len(batch_shape)\n",
    "\n",
    "# DIMS\n",
    "N, d = x1.shape[-2:]\n",
    "# d must be same\n",
    "M = x2.shape[-2]\n",
    "\n",
    "# We save compute when diag = True by only computing what is needed\n",
    "if not diag:\n",
    "\n",
    "    # K = torch.zeros(*batch_shape, N * d, M * d, device = x1.device, dtype = x1.dtype)\n",
    "\n",
    "    ### STEP 2: DIRECTIONAL SCALED DIFFERENCES ###\n",
    "    # Scale the inputs by the lengthscale(s) (e.g. two lengthscales if ard_num_dims = 2)\n",
    "    # HACK: Applying div before subtracting increases stability\n",
    "    x1_ = x1.div(lengthscale)\n",
    "    x2_ = x2.div(lengthscale)\n",
    "\n",
    "    # Broadcast and compute directional (scaled) differences (..., N, M, d)\n",
    "    directional_scaled_diffs = x1_.view(*batch_shape, N, 1, d) - x2_.view(*batch_shape, 1, M, d)\n",
    "    # Divide by lengthscales again to get directional_scaled_diffs: (x1 - x2) / ℓ^2\n",
    "    # lengthscale e.g. shape (1, 2) (unsqueeze to broadcast)\n",
    "    directional_scaled_diffs = directional_scaled_diffs / lengthscale.unsqueeze(-2)\n",
    "\n",
    "    # HACK: Flip the last axis to have d2, d1 ordering. The off-diagonals thus remain the same while the diagonals are flipped. This is new for the dfRBF kernel.\n",
    "    directional_scaled_diffs = torch.flip(directional_scaled_diffs, dims = [-1])\n",
    "\n",
    "    # (..., N, d, M): swops last two dims\n",
    "    directional_scaled_diffs = torch.transpose(directional_scaled_diffs, -1, -2).contiguous()\n",
    "\n",
    "    # torch.Size([..., N, d * M]) where the first M indices are d1 and the latter M indices are d2 for 2d\n",
    "    # d1 diffs are the left block, d2 diffs are the right block\n",
    "    directional_scaled_diffs_N_rows_wide = directional_scaled_diffs.view(*batch_shape, N, d * M)\n",
    "    \n",
    "    # transpose swop N and M so makes torch.Size([..., M, d, N])\n",
    "    # reshape torch.Size([..., M, d * N])\n",
    "    directional_scaled_diffs_M_rows_wide = directional_scaled_diffs.transpose(-1, -3).reshape(*batch_shape, M, d * N)\n",
    "    # d1 diffs are the upper block, d2 diffs are the lower block\n",
    "    directional_scaled_diffs_2N_rows_tall = directional_scaled_diffs_M_rows_wide.transpose(-1, -2)\n",
    "\n",
    "    ### STEP 3: RBF BLOCK ###\n",
    "    RBFKernel = gpytorch.kernels.RBFKernel(ard_num_dims = 2, lengthscale_constraint = gpytorch.constraints.GreaterThan(1e-5))\n",
    "    diff = RBFKernel.covar_dist(x1_, x2_, square_dist = True, lengthscale = lengthscale)\n",
    "    # torch.Size([..., N, M])\n",
    "    K_rbf = postprocess_rbf(diff)\n",
    "\n",
    "    ### STEP 4: BLOCKWISE ASSIGNMENTS ###\n",
    "    # torch.Size([..., N * d, M * d])\n",
    "    # First term: Last axis stays the same, second last axis (rows) is repeated\n",
    "    directional_scaled_diffs_two_rows = directional_scaled_diffs_N_rows_wide.repeat([*([1] * n_batch_dims), d, 1]) \n",
    "    # Second term: Last axis (columns) is repeated, second last axis (rows) stays the same\n",
    "    directional_scaled_diffs_two_columns = directional_scaled_diffs_2N_rows_tall.repeat([*([1] * (n_batch_dims + 1)), d])\n",
    "\n",
    "    # Upper left is r_1**2/l_1**4\n",
    "    # Upper right and lower left are r_1 * r_2 / (l_1**2 * l_2**2)\n",
    "    # Lower right is r_2**2 / l_2**4\n",
    "    directional_scaled_diffs_product_block = directional_scaled_diffs_two_rows * directional_scaled_diffs_two_columns\n",
    "\n",
    "    ### STEP 5: SIGN BLOCK ###\n",
    "    # Create sign block to negate off-diagonal blocks\n",
    "    sign_block = KroneckerProductLinearOperator(\n",
    "        torch.tensor([[1., -1.], [-1., 1.]], device = x1.device, dtype = x1.dtype).repeat(*batch_shape, 1, 1),\n",
    "        torch.ones(N, M, device = x1.device, dtype = x1.dtype).repeat(*batch_shape, 1, 1)\n",
    "    )\n",
    "\n",
    "    directional_scaled_diffs_product_block = sign_block * directional_scaled_diffs_product_block\n",
    "\n",
    "    ### STEP 6: KRONECKER PRODUCT BLOCK ###\n",
    "    # torch.Size([..., N * d, M * d])\n",
    "    kp = KroneckerProductLinearOperator(\n",
    "                # Upper left block is (1/l1^2)\n",
    "                # Lower right block is (1/l2^2)\n",
    "                # Upper right and lower left blocks are (0)\n",
    "                # HACK: Flip the last axis\n",
    "                torch.eye(d, d, device = x1.device, dtype = x1.dtype).repeat(*batch_shape, 1, 1) / lengthscale.flip(-1).pow(2),\n",
    "                # Expand\n",
    "                torch.ones(N, M, device = x1.device, dtype = x1.dtype).repeat(*batch_shape, 1, 1),\n",
    "            )\n",
    "    \n",
    "    ### STEP 6: SUBTRACT BLOCKS ###\n",
    "    # Upper left block is (1/l1^2 - product)\n",
    "    # Lower right block is (1/l2^2 - product)\n",
    "    # Upper right and lower left blocks are (0 - product), resulting in the negative product\n",
    "    subtracted_blocks = kp.to_dense() - directional_scaled_diffs_product_block\n",
    "    # repeat K_rbf d * d times\n",
    "    K = subtracted_blocks * K_rbf.repeat([*([1] * n_batch_dims), d, d])"
   ]
  },
  {
   "cell_type": "code",
   "execution_count": 69,
   "id": "84123179",
   "metadata": {},
   "outputs": [
    {
     "data": {
      "text/plain": [
       "tensor([0.0400, 0.0400, 0.0400, 0.0400, 0.0400, 0.0400, 0.0400, 0.0400, 0.0400,\n",
       "        0.0400, 0.1600, 0.1600, 0.1600, 0.1600, 0.1600, 0.1600, 0.1600, 0.1600,\n",
       "        0.1600, 0.1600])"
      ]
     },
     "execution_count": 69,
     "metadata": {},
     "output_type": "execute_result"
    }
   ],
   "source": [
    "K_matrix = K.to_dense()\n",
    "torch.diag(K_matrix)"
   ]
  },
  {
   "cell_type": "code",
   "execution_count": null,
   "id": "5aa48946",
   "metadata": {},
   "outputs": [],
   "source": [
    "        else:\n",
    "            if not (N == M and torch.eq(x1, x2).all()):\n",
    "                raise RuntimeError(\"diag = True only works when x1 == x2\")\n",
    "\n",
    "            kernel_diag = super(dfRBFKernel, self).forward(x1, x2, diag = True)\n",
    "            grad_diag = torch.ones(*batch_shape, M, d, device = x1.device, dtype = x1.dtype) / self.lengthscale.flip(-1).pow(2)\n",
    "            grad_diag = grad_diag.transpose(-1, -2).reshape(*batch_shape, M * d)\n",
    "            k_diag = torch.cat((kernel_diag, grad_diag), dim = -1)\n",
    "            pi = torch.arange(M * d).view(d, M).t().reshape((M * d))\n",
    "            return k_diag[..., pi]"
   ]
  },
  {
   "cell_type": "code",
   "execution_count": 77,
   "id": "30861d42",
   "metadata": {},
   "outputs": [
    {
     "data": {
      "text/plain": [
       "tensor([0.0400, 0.1600, 0.0400, 0.1600, 0.0400, 0.1600, 0.0400, 0.1600, 0.0400,\n",
       "        0.1600, 0.0400, 0.1600, 0.0400, 0.1600, 0.0400, 0.1600, 0.0400, 0.1600,\n",
       "        0.0400, 0.1600])"
      ]
     },
     "execution_count": 77,
     "metadata": {},
     "output_type": "execute_result"
    }
   ],
   "source": [
    "grad_diag = torch.ones(*batch_shape, M, d, device = x1.device, dtype = x1.dtype) / lengthscale.flip(-1).pow(2)\n",
    "grad_diag = grad_diag.transpose(-1, -2).reshape(*batch_shape, M * d)\n",
    "grad_diag\n",
    "pi = torch.arange(M * d).view(d, M).t().reshape((M * d))\n",
    "grad_diag[..., pi]"
   ]
  },
  {
   "cell_type": "code",
   "execution_count": 65,
   "id": "84a61bf8",
   "metadata": {},
   "outputs": [
    {
     "data": {
      "text/plain": [
       "tensor([0.1600, 0.0400])"
      ]
     },
     "execution_count": 65,
     "metadata": {},
     "output_type": "execute_result"
    }
   ],
   "source": [
    "1/lengthscale.pow(2)"
   ]
  },
  {
   "cell_type": "code",
   "execution_count": 72,
   "id": "7fdf308d",
   "metadata": {},
   "outputs": [
    {
     "data": {
      "text/plain": [
       "tensor([0.0400, 0.0400, 0.0400, 0.0400, 0.0400, 0.0400, 0.0400, 0.0400, 0.0400,\n",
       "        0.0400, 0.1600, 0.1600, 0.1600, 0.1600, 0.1600, 0.1600, 0.1600, 0.1600,\n",
       "        0.1600, 0.1600])"
      ]
     },
     "execution_count": 72,
     "metadata": {},
     "output_type": "execute_result"
    }
   ],
   "source": [
    "torch.diag(K_matrix)"
   ]
  },
  {
   "cell_type": "code",
   "execution_count": 67,
   "id": "fbf4b36b",
   "metadata": {},
   "outputs": [
    {
     "ename": "RuntimeError",
     "evalue": "The size of tensor a (20) must match the size of tensor b (18) at non-singleton dimension 1",
     "output_type": "error",
     "traceback": [
      "\u001b[0;31m---------------------------------------------------------------------------\u001b[0m",
      "\u001b[0;31mRuntimeError\u001b[0m                              Traceback (most recent call last)",
      "Cell \u001b[0;32mIn[67], line 11\u001b[0m\n\u001b[1;32m      8\u001b[0m L \u001b[38;5;241m=\u001b[39m torch\u001b[38;5;241m.\u001b[39mconcat([LL, LR], dim \u001b[38;5;241m=\u001b[39m \u001b[38;5;241m-\u001b[39m\u001b[38;5;241m1\u001b[39m)\n\u001b[1;32m      9\u001b[0m reconstructed_hessian \u001b[38;5;241m=\u001b[39m torch\u001b[38;5;241m.\u001b[39mconcat([U, L], dim \u001b[38;5;241m=\u001b[39m \u001b[38;5;241m0\u001b[39m)\n\u001b[0;32m---> 11\u001b[0m (\u001b[43mreconstructed_hessian\u001b[49m\u001b[43m \u001b[49m\u001b[38;5;241;43m==\u001b[39;49m\u001b[43m \u001b[49m\u001b[43mK_hess\u001b[49m)\u001b[38;5;241m.\u001b[39mall()\n",
      "\u001b[0;31mRuntimeError\u001b[0m: The size of tensor a (20) must match the size of tensor b (18) at non-singleton dimension 1"
     ]
    }
   ],
   "source": [
    "K_matrix = K.to_dense()\n",
    "LR = K_matrix[:N, :M]\n",
    "UL = K_matrix[N:, M:]\n",
    "LL = - K_matrix[N:, :M]\n",
    "UR = - K_matrix[:N, M:]\n",
    "\n",
    "U = torch.concat([UL, UR], dim = -1)\n",
    "L = torch.concat([LL, LR], dim = -1)\n",
    "reconstructed_hessian = torch.concat([U, L], dim = 0)\n",
    "\n",
    "(reconstructed_hessian == K_hess).all()"
   ]
  },
  {
   "cell_type": "code",
   "execution_count": 54,
   "id": "d7695bce",
   "metadata": {},
   "outputs": [
    {
     "data": {
      "text/plain": [
       "<matplotlib.image.AxesImage at 0x7fe35d1fa230>"
      ]
     },
     "execution_count": 54,
     "metadata": {},
     "output_type": "execute_result"
    },
    {
     "data": {
      "image/png": "[encoded data removed]",
      "text/plain": [
       "<Figure size 640x480 with 1 Axes>"
      ]
     },
     "metadata": {},
     "output_type": "display_data"
    }
   ],
   "source": [
    "plt.imshow(K.to_dense())"
   ]
  },
  {
   "cell_type": "code",
   "execution_count": 24,
   "id": "3184383f",
   "metadata": {},
   "outputs": [
    {
     "data": {
      "text/plain": [
       "tensor([[    1.0000,     0.0000,     0.0000,     0.0000,     0.0000,     0.0000,\n",
       "             0.0000,     0.0000,     0.0000],\n",
       "        [    0.0000,     1.0000,     0.0000,     0.0000,     0.0000,     0.0000,\n",
       "             0.0000,     0.0000,     0.0000],\n",
       "        [    0.0000,     0.0000,     1.0000,     0.0000,     0.0000,     0.0000,\n",
       "             0.0000,     0.0000,     0.0000],\n",
       "        [    0.0000,     0.0000,     0.0000,     1.0000,     0.0000,     0.0000,\n",
       "             0.0000,     0.0000,     0.0000],\n",
       "        [    0.0000,     0.0000,     0.0000,     0.0000,     1.0000,     0.0000,\n",
       "             0.0000,     0.0000,     0.0000],\n",
       "        [    0.0000,     0.0000,     0.0000,     0.0000,     0.0000,     1.0000,\n",
       "             0.0000,     0.0000,     0.0000],\n",
       "        [    0.0000,     0.0000,     0.0000,     0.0000,     0.0000,     0.0000,\n",
       "             1.0000,     0.0000,     0.0000],\n",
       "        [    0.0000,     0.0000,     0.0000,     0.0000,     0.0000,     0.0000,\n",
       "             0.0000,     1.0000,     0.0000],\n",
       "        [    0.0000,     0.0000,     0.0000,     0.0000,     0.0000,     0.0000,\n",
       "             0.0000,     0.0000,     1.0000],\n",
       "        [    0.0000,     0.0000,     0.0000,     0.0000,     0.0000,     0.0000,\n",
       "             0.0000,     0.0000,     0.0000]])"
      ]
     },
     "execution_count": 24,
     "metadata": {},
     "output_type": "execute_result"
    }
   ],
   "source": [
    "torch.set_printoptions(precision=4, sci_mode=False)\n",
    "K_rbf"
   ]
  },
  {
   "cell_type": "code",
   "execution_count": 142,
   "id": "508ae789",
   "metadata": {},
   "outputs": [
    {
     "data": {
      "text/plain": [
       "tensor([[ 0.00,  0.00, -0.44, -1.11, -0.89, -2.22, -1.33, -3.33, -1.78, -4.44,\n",
       "         -2.22, -5.56, -2.67, -6.67, -3.11, -7.78, -3.56, -8.89],\n",
       "        [ 0.44,  1.11,  0.00,  0.00, -0.44, -1.11, -0.89, -2.22, -1.33, -3.33,\n",
       "         -1.78, -4.44, -2.22, -5.56, -2.67, -6.67, -3.11, -7.78],\n",
       "        [ 0.89,  2.22,  0.44,  1.11,  0.00,  0.00, -0.44, -1.11, -0.89, -2.22,\n",
       "         -1.33, -3.33, -1.78, -4.44, -2.22, -5.56, -2.67, -6.67],\n",
       "        [ 1.33,  3.33,  0.89,  2.22,  0.44,  1.11,  0.00,  0.00, -0.44, -1.11,\n",
       "         -0.89, -2.22, -1.33, -3.33, -1.78, -4.44, -2.22, -5.56],\n",
       "        [ 1.78,  4.44,  1.33,  3.33,  0.89,  2.22,  0.44,  1.11,  0.00,  0.00,\n",
       "         -0.44, -1.11, -0.89, -2.22, -1.33, -3.33, -1.78, -4.44],\n",
       "        [ 2.22,  5.56,  1.78,  4.44,  1.33,  3.33,  0.89,  2.22,  0.44,  1.11,\n",
       "          0.00,  0.00, -0.44, -1.11, -0.89, -2.22, -1.33, -3.33],\n",
       "        [ 2.67,  6.67,  2.22,  5.56,  1.78,  4.44,  1.33,  3.33,  0.89,  2.22,\n",
       "          0.44,  1.11,  0.00,  0.00, -0.44, -1.11, -0.89, -2.22],\n",
       "        [ 3.11,  7.78,  2.67,  6.67,  2.22,  5.56,  1.78,  4.44,  1.33,  3.33,\n",
       "          0.89,  2.22,  0.44,  1.11,  0.00,  0.00, -0.44, -1.11],\n",
       "        [ 3.56,  8.89,  3.11,  7.78,  2.67,  6.67,  2.22,  5.56,  1.78,  4.44,\n",
       "          1.33,  3.33,  0.89,  2.22,  0.44,  1.11,  0.00,  0.00],\n",
       "        [ 4.00, 10.00,  3.56,  8.89,  3.11,  7.78,  2.67,  6.67,  2.22,  5.56,\n",
       "          1.78,  4.44,  1.33,  3.33,  0.89,  2.22,  0.44,  1.11],\n",
       "        [ 0.00,  0.00, -0.44, -1.11, -0.89, -2.22, -1.33, -3.33, -1.78, -4.44,\n",
       "         -2.22, -5.56, -2.67, -6.67, -3.11, -7.78, -3.56, -8.89],\n",
       "        [ 0.44,  1.11,  0.00,  0.00, -0.44, -1.11, -0.89, -2.22, -1.33, -3.33,\n",
       "         -1.78, -4.44, -2.22, -5.56, -2.67, -6.67, -3.11, -7.78],\n",
       "        [ 0.89,  2.22,  0.44,  1.11,  0.00,  0.00, -0.44, -1.11, -0.89, -2.22,\n",
       "         -1.33, -3.33, -1.78, -4.44, -2.22, -5.56, -2.67, -6.67],\n",
       "        [ 1.33,  3.33,  0.89,  2.22,  0.44,  1.11,  0.00,  0.00, -0.44, -1.11,\n",
       "         -0.89, -2.22, -1.33, -3.33, -1.78, -4.44, -2.22, -5.56],\n",
       "        [ 1.78,  4.44,  1.33,  3.33,  0.89,  2.22,  0.44,  1.11,  0.00,  0.00,\n",
       "         -0.44, -1.11, -0.89, -2.22, -1.33, -3.33, -1.78, -4.44],\n",
       "        [ 2.22,  5.56,  1.78,  4.44,  1.33,  3.33,  0.89,  2.22,  0.44,  1.11,\n",
       "          0.00,  0.00, -0.44, -1.11, -0.89, -2.22, -1.33, -3.33],\n",
       "        [ 2.67,  6.67,  2.22,  5.56,  1.78,  4.44,  1.33,  3.33,  0.89,  2.22,\n",
       "          0.44,  1.11,  0.00,  0.00, -0.44, -1.11, -0.89, -2.22],\n",
       "        [ 3.11,  7.78,  2.67,  6.67,  2.22,  5.56,  1.78,  4.44,  1.33,  3.33,\n",
       "          0.89,  2.22,  0.44,  1.11,  0.00,  0.00, -0.44, -1.11],\n",
       "        [ 3.56,  8.89,  3.11,  7.78,  2.67,  6.67,  2.22,  5.56,  1.78,  4.44,\n",
       "          1.33,  3.33,  0.89,  2.22,  0.44,  1.11,  0.00,  0.00],\n",
       "        [ 4.00, 10.00,  3.56,  8.89,  3.11,  7.78,  2.67,  6.67,  2.22,  5.56,\n",
       "          1.78,  4.44,  1.33,  3.33,  0.89,  2.22,  0.44,  1.11]])"
      ]
     },
     "execution_count": 142,
     "metadata": {},
     "output_type": "execute_result"
    }
   ],
   "source": [
    "x1 = x\n",
    "x2 = x[0:9]\n",
    "\n",
    "batch_shape = x1.shape[:-2]\n",
    "n_batch_dims = len(batch_shape)\n",
    "n1, d = x1.shape[-2:]\n",
    "# d must be same\n",
    "n2 = x2.shape[-2]\n",
    "\n",
    "x1_ = x1.div(lengthscale)\n",
    "x2_ = x2.div(lengthscale)\n",
    "\n",
    "outer = x1_.view(*batch_shape, n1, 1, d) - x2_.view(*batch_shape, 1, n2, d)\n",
    "outer = outer / lengthscale.unsqueeze(-2)\n",
    "outer = torch.transpose(outer, -1, -2).contiguous()\n",
    "outer.shape\n",
    "\n",
    "outer1.repeat([*([1] * n_batch_dims), d, 1])"
   ]
  },
  {
   "cell_type": "code",
   "execution_count": 136,
   "id": "5a46c729",
   "metadata": {},
   "outputs": [
    {
     "data": {
      "text/plain": [
       "tensor([[ 0.00, 10.00],\n",
       "        [ 0.22, 20.00],\n",
       "        [ 0.44, 30.00],\n",
       "        [ 0.67, 40.00],\n",
       "        [ 0.89, 50.00],\n",
       "        [ 1.11, 60.00],\n",
       "        [ 1.33, 70.00],\n",
       "        [ 1.56, 80.00],\n",
       "        [ 1.78, 90.00]])"
      ]
     },
     "execution_count": 136,
     "metadata": {},
     "output_type": "execute_result"
    }
   ],
   "source": [
    "x2_"
   ]
  },
  {
   "cell_type": "code",
   "execution_count": 127,
   "id": "460d7c51",
   "metadata": {},
   "outputs": [
    {
     "data": {
      "text/plain": [
       "torch.Size([20, 18])"
      ]
     },
     "execution_count": 127,
     "metadata": {},
     "output_type": "execute_result"
    }
   ],
   "source": [
    "K_11.repeat([*([1] * n_batch_dims), d, d]).shape"
   ]
  },
  {
   "cell_type": "code",
   "execution_count": 114,
   "id": "08684d2f",
   "metadata": {},
   "outputs": [
    {
     "data": {
      "text/plain": [
       "torch.Size([10, 9])"
      ]
     },
     "execution_count": 114,
     "metadata": {},
     "output_type": "execute_result"
    }
   ],
   "source": [
    "torch.ones(n1, n2, device=x1.device, dtype=x1.dtype).repeat(*batch_shape, 1, 1).shape"
   ]
  },
  {
   "cell_type": "code",
   "execution_count": 111,
   "id": "ed95a879",
   "metadata": {},
   "outputs": [
    {
     "data": {
      "text/plain": [
       "tensor([[1., 0.],\n",
       "        [0., 1.]])"
      ]
     },
     "execution_count": 111,
     "metadata": {},
     "output_type": "execute_result"
    }
   ],
   "source": [
    "torch.eye(d, d, device=x1.device, dtype=x1.dtype).repeat(*batch_shape, 1, 1)"
   ]
  },
  {
   "cell_type": "code",
   "execution_count": 103,
   "id": "08546c10",
   "metadata": {},
   "outputs": [
    {
     "data": {
      "text/plain": [
       "torch.Size([10, 18])"
      ]
     },
     "execution_count": 103,
     "metadata": {},
     "output_type": "execute_result"
    }
   ],
   "source": [
    "outer1 = outer.view(*batch_shape, n1, n2 * d)\n",
    "outer1.shape"
   ]
  },
  {
   "cell_type": "code",
   "execution_count": null,
   "id": "301d89fc",
   "metadata": {},
   "outputs": [],
   "source": [
    "    batch_shape = x1.shape[:-2]\n",
    "        n_batch_dims = len(batch_shape)\n",
    "        n1, d = x1.shape[-2:]\n",
    "        n2 = x2.shape[-2]\n",
    "\n",
    "        if not diag:\n",
    "            K = torch.zeros(*batch_shape, n1 * (d + 1), n2 * (d + 1), device=x1.device, dtype=x1.dtype)\n",
    "\n",
    "            # Scale the inputs by the lengthscale (for stability)\n",
    "            x1_ = x1.div(self.lengthscale)\n",
    "            x2_ = x2.div(self.lengthscale)\n",
    "\n",
    "            # Form all possible rank-1 products for the gradient and Hessian blocks\n",
    "            outer = x1_.view(*batch_shape, n1, 1, d) - x2_.view(*batch_shape, 1, n2, d)\n",
    "            outer = outer / self.lengthscale.unsqueeze(-2)\n",
    "            outer = torch.transpose(outer, -1, -2).contiguous()\n",
    "\n",
    "            # 1) Kernel block\n",
    "            diff = self.covar_dist(x1_, x2_, square_dist=True, **params)\n",
    "            K_11 = postprocess_rbf(diff)\n",
    "            K[..., :n1, :n2] = K_11\n",
    "\n",
    "            # 2) First gradient block\n",
    "            outer1 = outer.view(*batch_shape, n1, n2 * d)\n",
    "            K[..., :n1, n2:] = outer1 * K_11.repeat([*([1] * (n_batch_dims + 1)), d])\n",
    "\n",
    "            # 3) Second gradient block\n",
    "            outer2 = outer.transpose(-1, -3).reshape(*batch_shape, n2, n1 * d)\n",
    "            outer2 = outer2.transpose(-1, -2)\n",
    "            K[..., n1:, :n2] = -outer2 * K_11.repeat([*([1] * n_batch_dims), d, 1])\n",
    "\n",
    "            # 4) Hessian block\n",
    "            outer3 = outer1.repeat([*([1] * n_batch_dims), d, 1]) * outer2.repeat([*([1] * (n_batch_dims + 1)), d])\n",
    "            kp = KroneckerProductLinearOperator(\n",
    "                torch.eye(d, d, device=x1.device, dtype=x1.dtype).repeat(*batch_shape, 1, 1) / self.lengthscale.pow(2),\n",
    "                torch.ones(n1, n2, device=x1.device, dtype=x1.dtype).repeat(*batch_shape, 1, 1),\n",
    "            )\n",
    "            chain_rule = kp.to_dense() - outer3\n",
    "            K[..., n1:, n2:] = chain_rule * K_11.repeat([*([1] * n_batch_dims), d, d])\n",
    "\n",
    "            # Symmetrize for stability\n",
    "            if n1 == n2 and torch.eq(x1, x2).all():\n",
    "                K = 0.5 * (K.transpose(-1, -2) + K)\n",
    "\n",
    "            # Apply a perfect shuffle permutation to match the MutiTask ordering\n",
    "            pi1 = torch.arange(n1 * (d + 1)).view(d + 1, n1).t().reshape((n1 * (d + 1)))\n",
    "            pi2 = torch.arange(n2 * (d + 1)).view(d + 1, n2).t().reshape((n2 * (d + 1)))\n",
    "            K = K[..., pi1, :][..., :, pi2]\n",
    "\n",
    "            return K"
   ]
  },
  {
   "cell_type": "code",
   "execution_count": 78,
   "id": "fff902d7",
   "metadata": {},
   "outputs": [],
   "source": [
    "from gpytorch_models import dfGP"
   ]
  }
 ],
 "metadata": {
  "kernelspec": {
   "display_name": "gpytorch-env",
   "language": "python",
   "name": "python3"
  },
  "language_info": {
   "codemirror_mode": {
    "name": "ipython",
    "version": 3
   },
   "file_extension": ".py",
   "mimetype": "text/x-python",
   "name": "python",
   "nbconvert_exporter": "python",
   "pygments_lexer": "ipython3",
   "version": "3.10.18"
  }
 },
 "nbformat": 4,
 "nbformat_minor": 5
}
