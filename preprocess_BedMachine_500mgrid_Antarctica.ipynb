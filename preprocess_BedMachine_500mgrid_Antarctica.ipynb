{
 "cells": [
  {
   "cell_type": "code",
   "execution_count": 1,
   "metadata": {},
   "outputs": [
    {
     "name": "stderr",
     "output_type": "stream",
     "text": [
      "/home/kim/eccv/.conda/lib/python3.8/site-packages/tqdm/auto.py:21: TqdmWarning: IProgress not found. Please update jupyter and ipywidgets. See https://ipywidgets.readthedocs.io/en/stable/user_install.html\n",
      "  from .autonotebook import tqdm as notebook_tqdm\n"
     ]
    }
   ],
   "source": [
    "import pandas as pd\n",
    "import numpy as np\n",
    "import matplotlib\n",
    "import matplotlib.pyplot as plt\n",
    "import xarray as xr\n",
    "import torch"
   ]
  },
  {
   "cell_type": "markdown",
   "metadata": {},
   "source": [
    "# Load BedMachine from server\n",
    "\n",
    "Export grid"
   ]
  },
  {
   "cell_type": "code",
   "execution_count": 3,
   "metadata": {},
   "outputs": [],
   "source": [
    "bedmachine_ANT = xr.open_dataset(\"/home/kim/data/nsidc/BedMachineAntarctica-v3.nc\")"
   ]
  },
  {
   "cell_type": "code",
   "execution_count": 10,
   "metadata": {},
   "outputs": [],
   "source": [
    "bedmachine_all = bedmachine_ANT.to_dataframe()\n",
    "bedmachine_ANT_grid = bedmachine_all.reset_index().iloc[:, 0:2]"
   ]
  },
  {
   "cell_type": "code",
   "execution_count": 11,
   "metadata": {},
   "outputs": [
    {
     "data": {
      "text/html": [
       "<div>\n",
       "<style scoped>\n",
       "    .dataframe tbody tr th:only-of-type {\n",
       "        vertical-align: middle;\n",
       "    }\n",
       "\n",
       "    .dataframe tbody tr th {\n",
       "        vertical-align: top;\n",
       "    }\n",
       "\n",
       "    .dataframe thead th {\n",
       "        text-align: right;\n",
       "    }\n",
       "</style>\n",
       "<table border=\"1\" class=\"dataframe\">\n",
       "  <thead>\n",
       "    <tr style=\"text-align: right;\">\n",
       "      <th></th>\n",
       "      <th>x</th>\n",
       "      <th>y</th>\n",
       "    </tr>\n",
       "  </thead>\n",
       "  <tbody>\n",
       "    <tr>\n",
       "      <th>0</th>\n",
       "      <td>-3333000</td>\n",
       "      <td>3333000</td>\n",
       "    </tr>\n",
       "    <tr>\n",
       "      <th>1</th>\n",
       "      <td>-3333000</td>\n",
       "      <td>3332500</td>\n",
       "    </tr>\n",
       "    <tr>\n",
       "      <th>2</th>\n",
       "      <td>-3333000</td>\n",
       "      <td>3332000</td>\n",
       "    </tr>\n",
       "    <tr>\n",
       "      <th>3</th>\n",
       "      <td>-3333000</td>\n",
       "      <td>3331500</td>\n",
       "    </tr>\n",
       "    <tr>\n",
       "      <th>4</th>\n",
       "      <td>-3333000</td>\n",
       "      <td>3331000</td>\n",
       "    </tr>\n",
       "    <tr>\n",
       "      <th>...</th>\n",
       "      <td>...</td>\n",
       "      <td>...</td>\n",
       "    </tr>\n",
       "    <tr>\n",
       "      <th>177768884</th>\n",
       "      <td>3333000</td>\n",
       "      <td>-3331000</td>\n",
       "    </tr>\n",
       "    <tr>\n",
       "      <th>177768885</th>\n",
       "      <td>3333000</td>\n",
       "      <td>-3331500</td>\n",
       "    </tr>\n",
       "    <tr>\n",
       "      <th>177768886</th>\n",
       "      <td>3333000</td>\n",
       "      <td>-3332000</td>\n",
       "    </tr>\n",
       "    <tr>\n",
       "      <th>177768887</th>\n",
       "      <td>3333000</td>\n",
       "      <td>-3332500</td>\n",
       "    </tr>\n",
       "    <tr>\n",
       "      <th>177768888</th>\n",
       "      <td>3333000</td>\n",
       "      <td>-3333000</td>\n",
       "    </tr>\n",
       "  </tbody>\n",
       "</table>\n",
       "<p>177768889 rows × 2 columns</p>\n",
       "</div>"
      ],
      "text/plain": [
       "                 x        y\n",
       "0         -3333000  3333000\n",
       "1         -3333000  3332500\n",
       "2         -3333000  3332000\n",
       "3         -3333000  3331500\n",
       "4         -3333000  3331000\n",
       "...            ...      ...\n",
       "177768884  3333000 -3331000\n",
       "177768885  3333000 -3331500\n",
       "177768886  3333000 -3332000\n",
       "177768887  3333000 -3332500\n",
       "177768888  3333000 -3333000\n",
       "\n",
       "[177768889 rows x 2 columns]"
      ]
     },
     "execution_count": 11,
     "metadata": {},
     "output_type": "execute_result"
    }
   ],
   "source": [
    "bedmachine_ANT_grid\n",
    "# 177 M data points on this grid"
   ]
  },
  {
   "cell_type": "code",
   "execution_count": null,
   "metadata": {},
   "outputs": [],
   "source": [
    "# Save as CSV\n",
    "bedmachine_ANT_grid.to_csv(\"data/BedMachine_500mgrid_ANT.csv\", index = False)  # Saves without row indices"
   ]
  }
 ],
 "metadata": {
  "kernelspec": {
   "display_name": "base",
   "language": "python",
   "name": "python3"
  },
  "language_info": {
   "codemirror_mode": {
    "name": "ipython",
    "version": 3
   },
   "file_extension": ".py",
   "mimetype": "text/x-python",
   "name": "python",
   "nbconvert_exporter": "python",
   "pygments_lexer": "ipython3",
   "version": "3.8.12"
  }
 },
 "nbformat": 4,
 "nbformat_minor": 2
}
