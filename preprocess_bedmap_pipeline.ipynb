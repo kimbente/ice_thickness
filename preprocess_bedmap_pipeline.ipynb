{
 "cells": [
  {
   "cell_type": "markdown",
   "id": "5d86b66d",
   "metadata": {},
   "source": [
    "# Development of pipeline to go from exported .nc file to cleaned version used in experiments\n",
    "\n",
    "- full reproducable\n",
    "- save as .py script after to export\n",
    "\n",
    "- refer to https://github.com/kimbente/bedmap/blob/main/combine_all_data.ipynb\n",
    "\n",
    "# Download data\n",
    "\n",
    "- BedMap1 is one csv file [data link](https://ramadda.data.bas.ac.uk/repository/entry/get/BEDMAP1_1966-2000_AIR_BM1.csv?entryid=synth%3Af64815ec-4077-4432-9f55-0ce230f46029%3AL0JFRE1BUDFfMTk2Ni0yMDAwX0FJUl9CTTEuY3N2)\n",
    "- BedMap2 is a collection of csv files \n",
    "[https://ramadda.data.bas.ac.uk/repository/entry/show?entryid=91523ff9-d621-46b3-87f7-ffb6efcd1847] > \"Zip and download tree\"\n"
   ]
  },
  {
   "cell_type": "markdown",
   "id": "95eb0c81",
   "metadata": {},
   "source": [
    "# Write a script to download and proprocess data\n",
    "\n",
    "Instructions:\n",
    "- Make an empty directory locally to download all data into. For example by navigating to an upbrella folder and make a dir `mkdir bedmap`"
   ]
  },
  {
   "cell_type": "code",
   "execution_count": null,
   "id": "b2565b62",
   "metadata": {
    "vscode": {
     "languageId": "shellscript"
    }
   },
   "outputs": [],
   "source": [
    "# This is all you need to define\n",
    "# WARNING: This script downloads a large amount of data\n",
    "path_to_data_folder = \"/home/kim/data/bedmap_reproduce\""
   ]
  },
  {
   "cell_type": "code",
   "execution_count": null,
   "id": "4c9891d6",
   "metadata": {
    "vscode": {
     "languageId": "shellscript"
    }
   },
   "outputs": [
    {
     "name": "stdout",
     "output_type": "stream",
     "text": [
      "--2025-05-14 15:27:08--  https://ramadda.data.bas.ac.uk/repository/entry/get/BEDMAP1_1966-2000_AIR_BM1.csv?entryid=synth%3Af64815ec-4077-4432-9f55-0ce230f46029%3AL0JFRE1BUDFfMTk2Ni0yMDAwX0FJUl9CTTEuY3N2\n",
      "Resolving ramadda.data.bas.ac.uk (ramadda.data.bas.ac.uk)... 194.66.5.50\n",
      "Connecting to ramadda.data.bas.ac.uk (ramadda.data.bas.ac.uk)|194.66.5.50|:443... connected.\n",
      "HTTP request sent, awaiting response... 200 OK\n",
      "Length: 163826882 (156M) [text/csv]\n",
      "Saving to: '/home/kim/data/bedmap_reproduce/BEDMAP1_1966-2000_AIR_BM1.csv’\n",
      "\n",
      "/home/kim/data/bedm 100%[===================>] 156.24M  10.5MB/s    in 16s     \n",
      "\n",
      "2025-05-14 15:27:28 (9.47 MB/s) - '/home/kim/data/bedmap_reproduce/BEDMAP1_1966-2000_AIR_BM1.csv’ saved [163826882/163826882]\n",
      "\n"
     ]
    }
   ],
   "source": [
    "path_to_bm1_csv = f\"{path_to_data_folder}/BEDMAP1_1966-2000_AIR_BM1.csv\"\n",
    "bm1_url = \"https://ramadda.data.bas.ac.uk/repository/entry/get/BEDMAP1_1966-2000_AIR_BM1.csv?entryid=synth%3Af64815ec-4077-4432-9f55-0ce230f46029%3AL0JFRE1BUDFfMTk2Ni0yMDAwX0FJUl9CTTEuY3N2\"\n",
    "\n",
    "# Download the 156.24MB CSV file from the URL\n",
    "!wget -O \"{path_to_bm1_csv}\" \"{bm1_url}\""
   ]
  },
  {
   "cell_type": "markdown",
   "id": "fd8b496c",
   "metadata": {},
   "source": [
    "# Bedmap 2"
   ]
  },
  {
   "cell_type": "code",
   "execution_count": null,
   "id": "0882242a",
   "metadata": {
    "vscode": {
     "languageId": "shellscript"
    }
   },
   "outputs": [],
   "source": [
    "# Make a directory for the bedmap2 data\n",
    "path_to_bm2_data_folder = f\"{path_to_data_folder}/bm2_data\"\n",
    "!mkdir -p \"{path_to_bm2_data_folder}\"\n",
    "\n",
    "# "
   ]
  },
  {
   "cell_type": "markdown",
   "id": "8f8d467c",
   "metadata": {},
   "source": []
  }
 ],
 "metadata": {
  "kernelspec": {
   "display_name": "base",
   "language": "python",
   "name": "python3"
  },
  "language_info": {
   "codemirror_mode": {
    "name": "ipython",
    "version": 3
   },
   "file_extension": ".py",
   "mimetype": "text/x-python",
   "name": "python",
   "nbconvert_exporter": "python",
   "pygments_lexer": "ipython3",
   "version": "3.8.12"
  }
 },
 "nbformat": 4,
 "nbformat_minor": 5
}
