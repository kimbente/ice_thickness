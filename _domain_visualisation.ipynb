{
 "cells": [
  {
   "cell_type": "code",
   "execution_count": 1,
   "id": "de6b4764",
   "metadata": {},
   "outputs": [],
   "source": [
    "import matplotlib.pyplot as plt  # plotting library\n",
    "import cartopy.crs as ccrs  # Projections list\n",
    "import cartopy.feature as cfeature # for coastlines\n",
    "import matplotlib.patches as mpatches # draw domain boundry patches"
   ]
  },
  {
   "cell_type": "code",
   "execution_count": 2,
   "id": "357d9765",
   "metadata": {},
   "outputs": [
    {
     "name": "stdout",
     "output_type": "stream",
     "text": [
      "Cartopy version: 0.21.1\n",
      "PyProj version: 3.5.0\n",
      "PROJ version: 9.2.0\n"
     ]
    }
   ],
   "source": [
    "import cartopy\n",
    "import pyproj\n",
    "\n",
    "print(\"Cartopy version:\", cartopy.__version__)\n",
    "print(\"PyProj version:\", pyproj.__version__)\n",
    "print(\"PROJ version:\", pyproj.proj_version_str)"
   ]
  },
  {
   "cell_type": "code",
   "execution_count": 3,
   "id": "102c441c",
   "metadata": {},
   "outputs": [],
   "source": [
    "# define domain coordinates in Polar Stereographic projection: 200 x 200 km square\n",
    "byrd_catchment_y_min = - 750 * 1000 # in k\n",
    "byrd_catchment_x_min = - 950 * 1000\n",
    "byrd_catchment_y_max = 400 * 1000\n",
    "byrd_catchment_x_max = 600 * 1000"
   ]
  },
  {
   "cell_type": "code",
   "execution_count": 4,
   "id": "23ca5e3a",
   "metadata": {},
   "outputs": [
    {
     "ename": "",
     "evalue": "",
     "output_type": "error",
     "traceback": [
      "\u001b[1;31mThe Kernel crashed while executing code in the current cell or a previous cell. \n",
      "\u001b[1;31mPlease review the code in the cell(s) to identify a possible cause of the failure. \n",
      "\u001b[1;31mClick <a href='https://aka.ms/vscodeJupyterKernelCrash'>here</a> for more info. \n",
      "\u001b[1;31mView Jupyter <a href='command:jupyter.viewOutput'>log</a> for further details."
     ]
    }
   ],
   "source": [
    "fig = plt.figure(figsize = [10, 10])\n",
    "ax = plt.axes(projection = ccrs.SouthPolarStereo())\n",
    "ax.add_feature(cfeature.COASTLINE, linestyle = '-', linewidth = 0.4, alpha = 0.7)\n",
    "plt.show()"
   ]
  },
  {
   "cell_type": "code",
   "execution_count": 3,
   "id": "9d3e5603",
   "metadata": {},
   "outputs": [
    {
     "ename": "",
     "evalue": "",
     "output_type": "error",
     "traceback": [
      "\u001b[1;31mThe Kernel crashed while executing code in the current cell or a previous cell. \n",
      "\u001b[1;31mPlease review the code in the cell(s) to identify a possible cause of the failure. \n",
      "\u001b[1;31mClick <a href='https://aka.ms/vscodeJupyterKernelCrash'>here</a> for more info. \n",
      "\u001b[1;31mView Jupyter <a href='command:jupyter.viewOutput'>log</a> for further details."
     ]
    }
   ],
   "source": [
    "# define font\n",
    "hfont = {'fontname':'Helvetica'}\n",
    "special_color = '#2D27EB'\n",
    "\n",
    "# Initialise plot\n",
    "fig = plt.figure(figsize = [10, 10])\n",
    "ax = plt.axes(projection = ccrs.SouthPolarStereo())\n",
    "\n",
    "# restrict to over 65 lat\n",
    "ax.set_extent([-180, 180, -90, -65], ccrs.PlateCarree())\n",
    "\n",
    "# hides boundry line\n",
    "ax.axis('off')\n",
    "\n",
    "# add grey land\n",
    "ax.add_feature(cfeature.LAND, facecolor = (\"#FAFAFA\"), alpha = 1.0)\n",
    "\n",
    "# thin coastline lines\n",
    "ax.add_feature(cfeature.COASTLINE, edgecolor = special_color, linestyle = '-', linewidth = 0.4, alpha = 0.7)\n",
    "\n",
    "# Dome C patch\n",
    "ax.add_patch(mpatches.Rectangle(\n",
    "    xy = [byrd_catchment_x_min, byrd_catchment_y_min], # lower left corner\n",
    "    width = (byrd_catchment_x_max - byrd_catchment_x_min), \n",
    "    height = (byrd_catchment_y_max - byrd_catchment_y_min),\n",
    "    facecolor = 'none', edgecolor = special_color, linewidth = 0.8,\n",
    "    transform = ccrs.SouthPolarStereo()))\n",
    "\n",
    "# Add South Pole marker\n",
    "ax.scatter(0, 0, \n",
    "         color = special_color, marker = \"x\",\n",
    "         transform = ccrs.SouthPolarStereo())\n",
    "\n",
    "# Add South Pole label\n",
    "plt.annotate(\"South Pole\", (0 - 300000, 0 + 100000), **hfont, color = special_color,\n",
    "             transform = ccrs.SouthPolarStereo())\n",
    "\n",
    "\n",
    "# Add Byrd Catchment label\n",
    "plt.annotate(\"Byrd Catchment\", (byrd_catchment_x_min - 300000, byrd_catchment_y_min + 100000), \n",
    "             **hfont, color = special_color,\n",
    "             transform = ccrs.SouthPolarStereo())\n",
    "\n",
    "plt.show()"
   ]
  }
 ],
 "metadata": {
  "kernelspec": {
   "display_name": "base",
   "language": "python",
   "name": "python3"
  },
  "language_info": {
   "codemirror_mode": {
    "name": "ipython",
    "version": 3
   },
   "file_extension": ".py",
   "mimetype": "text/x-python",
   "name": "python",
   "nbconvert_exporter": "python",
   "pygments_lexer": "ipython3",
   "version": "3.8.12"
  }
 },
 "nbformat": 4,
 "nbformat_minor": 5
}
