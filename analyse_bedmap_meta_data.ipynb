{
 "cells": [
  {
   "cell_type": "code",
   "execution_count": 1,
   "id": "9bc9b56b",
   "metadata": {},
   "outputs": [],
   "source": [
    "import pandas as pd\n",
    "import numpy as np\n",
    "import os"
   ]
  },
  {
   "cell_type": "code",
   "execution_count": 62,
   "id": "6a1776eb",
   "metadata": {},
   "outputs": [
    {
     "name": "stdout",
     "output_type": "stream",
     "text": [
      "NASA_2011_ICEBRIDGE_AIR_BM2.csv\n",
      "0 (m)\n",
      "airborne radar.\n"
     ]
    }
   ],
   "source": [
    "path_to_bedmap_data_folder = \"/home/kim/data/bedmap_raw_data_test\"\n",
    "path_bedmap2 = os.path.join(path_to_bedmap_data_folder, \"bedmap2_raw_data/\")\n",
    "\n",
    "file = 'NASA_2011_ICEBRIDGE_AIR_BM2.csv'\n",
    "\n",
    "myfile = pd.read_csv(os.path.join(path_bedmap2, file), nrows = 17, header = None)\n",
    "\n",
    "# name\n",
    "print(file)\n",
    "\n",
    "# firn correction\n",
    "print(myfile.iloc[12][0][18:])\n",
    "\n",
    "# platform\n",
    "print(myfile.iloc[8][0][11:])"
   ]
  },
  {
   "cell_type": "code",
   "execution_count": 63,
   "id": "db11fa8b",
   "metadata": {},
   "outputs": [
    {
     "name": "stdout",
     "output_type": "stream",
     "text": [
      "BAS_2007_AGAP_AIR_BM2.csv\n",
      "10 (m)\n",
      "airborne radar.\n"
     ]
    }
   ],
   "source": [
    "file = 'BAS_2007_AGAP_AIR_BM2.csv'\n",
    "\n",
    "myfile = pd.read_csv(os.path.join(path_bedmap2, file), nrows = 17, header = None)\n",
    "\n",
    "# name\n",
    "print(file)\n",
    "\n",
    "# firn correction\n",
    "print(myfile.iloc[12][0][18:])\n",
    "\n",
    "# platform\n",
    "print(myfile.iloc[8][0][11:])"
   ]
  },
  {
   "cell_type": "code",
   "execution_count": null,
   "id": "7889bbd4",
   "metadata": {},
   "outputs": [],
   "source": [
    "file = 'BAS_2007_AGAP_AIR_BM2.csv'\n",
    "\n",
    "myfile = pd.read_csv(os.path.join(path_bedmap2, file), nrows = 17, header = None)\n",
    "\n",
    "# name\n",
    "print(file)\n",
    "\n",
    "# firn correction\n",
    "print(myfile.iloc[12][0][18:])\n",
    "\n",
    "# platform\n",
    "print(myfile.iloc[8][0][11:])"
   ]
  },
  {
   "cell_type": "markdown",
   "id": "bd546bac",
   "metadata": {},
   "source": [
    "# Check only for our data"
   ]
  },
  {
   "cell_type": "code",
   "execution_count": null,
   "id": "c4398776",
   "metadata": {},
   "outputs": [],
   "source": [
    "upper_files = [\n",
    "    'BEDMAP1_1966-2000_AIR_BM1.csv', \n",
    "    'NASA_2011_ICEBRIDGE_AIR_BM2.csv',\n",
    "    'NASA_2017_ICEBRIDGE_AIR_BM3.csv', \n",
    "    'UTIG_2010_ICECAP_AIR_BM3.csv']\n",
    "\n",
    "mid_files = [\n",
    "    'BEDMAP1_1966-2000_AIR_BM1.csv', \n",
    "    'BAS_2007_AGAP_AIR_BM2.csv', # additional\n",
    "    'NASA_2011_ICEBRIDGE_AIR_BM2.csv',\n",
    "    'NASA_2013_ICEBRIDGE_AIR_BM3.csv', # additional\n",
    "    'UTIG_2010_ICECAP_AIR_BM3.csv']\n",
    "\n",
    "lower_files = [\n",
    "    'BEDMAP1_1966-2000_AIR_BM1.csv', \n",
    "    'BAS_2007_AGAP_AIR_BM2.csv',\n",
    "    'NASA_2011_ICEBRIDGE_AIR_BM2.csv',\n",
    "    'NASA_2013_ICEBRIDGE_AIR_BM3.csv',\n",
    "    'NASA_2017_ICEBRIDGE_AIR_BM3.csv', \n",
    "    'UTIG_2010_ICECAP_AIR_BM3.csv']"
   ]
  },
  {
   "cell_type": "code",
   "execution_count": 26,
   "id": "f70d10cb",
   "metadata": {},
   "outputs": [],
   "source": [
    "myfile = pd.read_csv(os.path.join(path_bedmap2, file), nrows = 17, header = None)"
   ]
  },
  {
   "cell_type": "code",
   "execution_count": 51,
   "id": "ead05c38",
   "metadata": {},
   "outputs": [
    {
     "name": "stdout",
     "output_type": "stream",
     "text": [
      "                                       filename firn_correction  \\\n",
      "0   STOLAF_2002_ITASE-Hercules-Dome_GRN_BM2.csv           0 (m)   \n",
      "1                   BGR_2002_PCMEGA_AIR_BM2.csv           0 (m)   \n",
      "2            UTIG_2000_Robb-Glacier_AIR_BM2.csv           0 (m)   \n",
      "3               NASA_2012_ICEBRIDGE_AIR_BM2.csv           0 (m)   \n",
      "4  RNRF_2008_Vostok-Subglacial-Lake_AIR_BM2.csv           0 (m)   \n",
      "\n",
      "              platform  \n",
      "0  ground-based radar.  \n",
      "1      airborne radar.  \n",
      "2      airborne radar.  \n",
      "3      airborne radar.  \n",
      "4      airborne radar.  \n"
     ]
    }
   ],
   "source": [
    "import os\n",
    "import pandas as pd\n",
    "\n",
    "# Set folder path\n",
    "path_to_bedmap_data_folder = \"/home/kim/data/bedmap_raw_data_test\"\n",
    "path_bedmap2 = os.path.join(path_to_bedmap_data_folder, \"bedmap2_raw_data/\")\n",
    "\n",
    "meta_data = []\n",
    "\n",
    "for file in os.listdir(path_bedmap2):\n",
    "    if file.endswith(\".csv\"):\n",
    "        file_path = os.path.join(path_bedmap2, file)\n",
    "\n",
    "        try:\n",
    "            # Read first 18 lines only\n",
    "            with open(file_path, \"r\", encoding=\"utf-8\", errors=\"ignore\") as f:\n",
    "                lines = []\n",
    "                for _ in range(18):\n",
    "                    try:\n",
    "                        lines.append(next(f).strip())\n",
    "                    except StopIteration:\n",
    "                        break  # Fewer than 18 lines in file\n",
    "\n",
    "            # Extract metadata safely\n",
    "            firn_correction = lines[12][18:].strip() if len(lines) > 12 and len(lines[12]) > 18 else None\n",
    "            platform = lines[8][11:].strip() if len(lines) > 8 and len(lines[8]) > 11 else None\n",
    "\n",
    "            # Add to metadata\n",
    "            meta_data.append({\n",
    "                \"filename\": file,\n",
    "                \"firn_correction\": firn_correction,\n",
    "                \"platform\": platform\n",
    "            })\n",
    "\n",
    "        except Exception as e:\n",
    "            print(f\"Failed to process {file}: {e}\")\n",
    "\n",
    "# Create final DataFrame\n",
    "meta_df = pd.DataFrame(meta_data)\n",
    "print(meta_df.head())"
   ]
  },
  {
   "cell_type": "code",
   "execution_count": 54,
   "id": "d7e5488a",
   "metadata": {},
   "outputs": [
    {
     "name": "stdout",
     "output_type": "stream",
     "text": [
      "Failed to read RNRF_2008_Vostok-Subglacial-Lake_AIR_BM2.csv: Error tokenizing data. C error: Expected 1 fields in line 6, saw 2\n",
      "\n",
      "Failed to read UTIG_1999_SOAR-LVS-WLK_AIR_BM2.csv: Error tokenizing data. C error: Expected 1 fields in line 6, saw 2\n",
      "\n",
      "Failed to read RNRF_2007_52RAEap5_AIR_BM2.csv: Error tokenizing data. C error: Expected 1 fields in line 6, saw 2\n",
      "\n",
      "Failed to read RNRF_2006_51RAEap5_AIR_BM2.csv: Error tokenizing data. C error: Expected 1 fields in line 6, saw 2\n",
      "\n",
      "Failed to read RNRF_2005_50RAEap5_AIR_BM2.csv: Error tokenizing data. C error: Expected 1 fields in line 6, saw 2\n",
      "\n",
      "Failed to read RNRF_2008_53RAEap5_AIR_BM2.csv: Error tokenizing data. C error: Expected 1 fields in line 6, saw 2\n",
      "\n",
      "Failed to read UTIG_1991_CASERTZ_AIR_BM2.csv: Error tokenizing data. C error: Expected 1 fields in line 10, saw 2\n",
      "\n",
      "Failed to read RNRF_2004_49RAEap5_AIR_BM2.csv: Error tokenizing data. C error: Expected 1 fields in line 6, saw 2\n",
      "\n",
      "Failed to read RNRF_2007_Mirny-Vostok_AIR_BM2.csv: Error tokenizing data. C error: Expected 1 fields in line 6, saw 2\n",
      "\n",
      "Failed to read RNRF_2003_48RAEap5_AIR_BM2.csv: Error tokenizing data. C error: Expected 1 fields in line 6, saw 2\n",
      "\n",
      "Failed to read RNRF_2013_Vostok-Progress_AIR_BM2.csv: Error tokenizing data. C error: Expected 1 fields in line 6, saw 2\n",
      "\n",
      "Failed to read RNRF_2006_KV1-area_AIR_BM2.csv: Error tokenizing data. C error: Expected 1 fields in line 6, saw 2\n",
      "\n"
     ]
    },
    {
     "data": {
      "application/vnd.microsoft.datawrangler.viewer.v0+json": {
       "columns": [
        {
         "name": "index",
         "rawType": "int64",
         "type": "integer"
        },
        {
         "name": "filename",
         "rawType": "object",
         "type": "string"
        },
        {
         "name": "firn_correction",
         "rawType": "object",
         "type": "string"
        },
        {
         "name": "platform",
         "rawType": "object",
         "type": "string"
        }
       ],
       "ref": "39a43333-fe47-442d-9327-a85d78ce7276",
       "rows": [
        [
         "0",
         "STOLAF_2002_ITASE-Hercules-Dome_GRN_BM2.csv",
         "0 (m)",
         "ground-based radar."
        ],
        [
         "1",
         "BGR_2002_PCMEGA_AIR_BM2.csv",
         "0 (m)",
         "airborne radar."
        ],
        [
         "2",
         "UTIG_2000_Robb-Glacier_AIR_BM2.csv",
         "0 (m)",
         "airborne radar."
        ],
        [
         "3",
         "NASA_2012_ICEBRIDGE_AIR_BM2.csv",
         "0 (m)",
         "airborne radar."
        ],
        [
         "4",
         "BAS_2010_PIG_AIR_BM2.csv",
         "10 (m)",
         "airborne radar."
        ]
       ],
       "shape": {
        "columns": 3,
        "rows": 5
       }
      },
      "text/html": [
       "<div>\n",
       "<style scoped>\n",
       "    .dataframe tbody tr th:only-of-type {\n",
       "        vertical-align: middle;\n",
       "    }\n",
       "\n",
       "    .dataframe tbody tr th {\n",
       "        vertical-align: top;\n",
       "    }\n",
       "\n",
       "    .dataframe thead th {\n",
       "        text-align: right;\n",
       "    }\n",
       "</style>\n",
       "<table border=\"1\" class=\"dataframe\">\n",
       "  <thead>\n",
       "    <tr style=\"text-align: right;\">\n",
       "      <th></th>\n",
       "      <th>filename</th>\n",
       "      <th>firn_correction</th>\n",
       "      <th>platform</th>\n",
       "    </tr>\n",
       "  </thead>\n",
       "  <tbody>\n",
       "    <tr>\n",
       "      <th>0</th>\n",
       "      <td>STOLAF_2002_ITASE-Hercules-Dome_GRN_BM2.csv</td>\n",
       "      <td>0 (m)</td>\n",
       "      <td>ground-based radar.</td>\n",
       "    </tr>\n",
       "    <tr>\n",
       "      <th>1</th>\n",
       "      <td>BGR_2002_PCMEGA_AIR_BM2.csv</td>\n",
       "      <td>0 (m)</td>\n",
       "      <td>airborne radar.</td>\n",
       "    </tr>\n",
       "    <tr>\n",
       "      <th>2</th>\n",
       "      <td>UTIG_2000_Robb-Glacier_AIR_BM2.csv</td>\n",
       "      <td>0 (m)</td>\n",
       "      <td>airborne radar.</td>\n",
       "    </tr>\n",
       "    <tr>\n",
       "      <th>3</th>\n",
       "      <td>NASA_2012_ICEBRIDGE_AIR_BM2.csv</td>\n",
       "      <td>0 (m)</td>\n",
       "      <td>airborne radar.</td>\n",
       "    </tr>\n",
       "    <tr>\n",
       "      <th>4</th>\n",
       "      <td>BAS_2010_PIG_AIR_BM2.csv</td>\n",
       "      <td>10 (m)</td>\n",
       "      <td>airborne radar.</td>\n",
       "    </tr>\n",
       "  </tbody>\n",
       "</table>\n",
       "</div>"
      ],
      "text/plain": [
       "                                      filename firn_correction  \\\n",
       "0  STOLAF_2002_ITASE-Hercules-Dome_GRN_BM2.csv           0 (m)   \n",
       "1                  BGR_2002_PCMEGA_AIR_BM2.csv           0 (m)   \n",
       "2           UTIG_2000_Robb-Glacier_AIR_BM2.csv           0 (m)   \n",
       "3              NASA_2012_ICEBRIDGE_AIR_BM2.csv           0 (m)   \n",
       "4                     BAS_2010_PIG_AIR_BM2.csv          10 (m)   \n",
       "\n",
       "              platform  \n",
       "0  ground-based radar.  \n",
       "1      airborne radar.  \n",
       "2      airborne radar.  \n",
       "3      airborne radar.  \n",
       "4      airborne radar.  "
      ]
     },
     "execution_count": 54,
     "metadata": {},
     "output_type": "execute_result"
    }
   ],
   "source": [
    "import os\n",
    "import pandas as pd\n",
    "\n",
    "# Set folder path\n",
    "path_to_bedmap_data_folder = \"/home/kim/data/bedmap_raw_data_test\"\n",
    "path_bedmap2 = os.path.join(path_to_bedmap_data_folder, \"bedmap2_raw_data/\")\n",
    "\n",
    "# Prepare list to store metadata\n",
    "meta_data = []\n",
    "\n",
    "# Loop through each CSV file in the folder\n",
    "for file in os.listdir(path_bedmap2):\n",
    "    if file.endswith(\".csv\"):\n",
    "        file_path = os.path.join(path_bedmap2, file)\n",
    "\n",
    "        with open(file_path, \"r\", encoding = \"utf-8\", errors = \"ignore\") as f:\n",
    "            lines = [next(f) for _ in range(18)]\n",
    "\n",
    "        try:\n",
    "            # Read only the first 17 rows (where metadata lives)\n",
    "            df = pd.read_csv(file_path, nrows=17, header=None)\n",
    "\n",
    "            # Extract metadata\n",
    "            firn_correction = df.iloc[12][0][18:].strip() if len(df) > 12 else None\n",
    "            platform = df.iloc[8][0][11:].strip() if len(df) > 8 else None\n",
    "\n",
    "            # Append to list\n",
    "            meta_data.append({\n",
    "                \"filename\": file,\n",
    "                \"firn_correction\": firn_correction,\n",
    "                \"platform\": platform\n",
    "            })\n",
    "\n",
    "        except Exception as e:\n",
    "            print(f\"Failed to read {file}: {e}\")\n",
    "\n",
    "# Convert to DataFrame\n",
    "meta_df = pd.DataFrame(meta_data)\n",
    "\n",
    "# Show the result\n",
    "meta_df.head()\n"
   ]
  }
 ],
 "metadata": {
  "kernelspec": {
   "display_name": "base",
   "language": "python",
   "name": "python3"
  },
  "language_info": {
   "codemirror_mode": {
    "name": "ipython",
    "version": 3
   },
   "file_extension": ".py",
   "mimetype": "text/x-python",
   "name": "python",
   "nbconvert_exporter": "python",
   "pygments_lexer": "ipython3",
   "version": "3.11.3"
  }
 },
 "nbformat": 4,
 "nbformat_minor": 5
}
