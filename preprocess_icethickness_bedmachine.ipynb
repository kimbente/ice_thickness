{
 "cells": [
  {
   "cell_type": "code",
   "execution_count": 1,
   "metadata": {},
   "outputs": [
    {
     "name": "stderr",
     "output_type": "stream",
     "text": [
      "/home/kim/eccv/.conda/lib/python3.8/site-packages/tqdm/auto.py:21: TqdmWarning: IProgress not found. Please update jupyter and ipywidgets. See https://ipywidgets.readthedocs.io/en/stable/user_install.html\n",
      "  from .autonotebook import tqdm as notebook_tqdm\n"
     ]
    }
   ],
   "source": [
    "import pandas as pd\n",
    "import numpy as np\n",
    "import matplotlib\n",
    "import matplotlib.pyplot as plt\n",
    "import xarray as xr\n",
    "import torch"
   ]
  },
  {
   "cell_type": "markdown",
   "metadata": {},
   "source": [
    "## Input: \n",
    "'data/byrd_bedmachine.nc'\n",
    "## Output 1: \n",
    "3D tensor (3, 400, 400) [s, x, y] 'data/icethickness_bedmachine_m_h_x_y.pt'\n",
    "\n",
    "## Output 2: \n",
    "flat csv pd.DataFrame columns [s, x, y] 'data/icethickness_bedmachine_m_h_x_y_flat.csv'"
   ]
  },
  {
   "cell_type": "code",
   "execution_count": 2,
   "metadata": {},
   "outputs": [],
   "source": [
    "path_to_file_server = 'data/byrd_bedmachine.nc'\n",
    "byrd_bedmachine = xr.open_dataset(path_to_file_server)"
   ]
  },
  {
   "cell_type": "markdown",
   "metadata": {},
   "source": [
    "## BedMachine data is given in ice equivalent, which is what we want\n",
    "As this is just in meters thickness we do not need any adjustment."
   ]
  },
  {
   "cell_type": "markdown",
   "metadata": {},
   "source": [
    "## Tensor \n",
    "\n",
    "- 3 2D fields"
   ]
  },
  {
   "cell_type": "code",
   "execution_count": 13,
   "metadata": {},
   "outputs": [],
   "source": [
    "# grid x and y data\n",
    "xx, yy = np.meshgrid(byrd_bedmachine.x.values, byrd_bedmachine.y.values)"
   ]
  },
  {
   "cell_type": "code",
   "execution_count": 14,
   "metadata": {},
   "outputs": [
    {
     "name": "stdout",
     "output_type": "stream",
     "text": [
      "(3, 400, 400)\n"
     ]
    }
   ],
   "source": [
    "byrd_bedmachine[\"thickness\"].values\n",
    "\n",
    "data = np.concatenate((\n",
    "    byrd_bedmachine[\"thickness\"].values.reshape(1, 400, 400), \n",
    "    xx.reshape(1, 400, 400), \n",
    "    yy.reshape(1, 400, 400)))\n",
    "\n",
    "print(data.shape)"
   ]
  },
  {
   "cell_type": "code",
   "execution_count": 15,
   "metadata": {},
   "outputs": [],
   "source": [
    "torch.save(torch.tensor(data), \"data/icethickness_bedmachine_m_h_x_y.pt\")"
   ]
  },
  {
   "cell_type": "markdown",
   "metadata": {},
   "source": [
    "# csv pd.DataFrame\n",
    "\n",
    "- flat \n",
    "- use for merging"
   ]
  },
  {
   "cell_type": "code",
   "execution_count": 17,
   "metadata": {},
   "outputs": [
    {
     "data": {
      "text/html": [
       "<div>\n",
       "<style scoped>\n",
       "    .dataframe tbody tr th:only-of-type {\n",
       "        vertical-align: middle;\n",
       "    }\n",
       "\n",
       "    .dataframe tbody tr th {\n",
       "        vertical-align: top;\n",
       "    }\n",
       "\n",
       "    .dataframe thead th {\n",
       "        text-align: right;\n",
       "    }\n",
       "</style>\n",
       "<table border=\"1\" class=\"dataframe\">\n",
       "  <thead>\n",
       "    <tr style=\"text-align: right;\">\n",
       "      <th></th>\n",
       "      <th>h</th>\n",
       "      <th>x</th>\n",
       "      <th>y</th>\n",
       "    </tr>\n",
       "  </thead>\n",
       "  <tbody>\n",
       "    <tr>\n",
       "      <th>0</th>\n",
       "      <td>279.372437</td>\n",
       "      <td>350000.0</td>\n",
       "      <td>-800500.0</td>\n",
       "    </tr>\n",
       "    <tr>\n",
       "      <th>1</th>\n",
       "      <td>289.742432</td>\n",
       "      <td>350500.0</td>\n",
       "      <td>-800500.0</td>\n",
       "    </tr>\n",
       "    <tr>\n",
       "      <th>2</th>\n",
       "      <td>300.097778</td>\n",
       "      <td>351000.0</td>\n",
       "      <td>-800500.0</td>\n",
       "    </tr>\n",
       "    <tr>\n",
       "      <th>3</th>\n",
       "      <td>310.446289</td>\n",
       "      <td>351500.0</td>\n",
       "      <td>-800500.0</td>\n",
       "    </tr>\n",
       "    <tr>\n",
       "      <th>4</th>\n",
       "      <td>320.785889</td>\n",
       "      <td>352000.0</td>\n",
       "      <td>-800500.0</td>\n",
       "    </tr>\n",
       "    <tr>\n",
       "      <th>...</th>\n",
       "      <td>...</td>\n",
       "      <td>...</td>\n",
       "      <td>...</td>\n",
       "    </tr>\n",
       "    <tr>\n",
       "      <th>159995</th>\n",
       "      <td>1557.559570</td>\n",
       "      <td>547500.0</td>\n",
       "      <td>-1000000.0</td>\n",
       "    </tr>\n",
       "    <tr>\n",
       "      <th>159996</th>\n",
       "      <td>1514.417725</td>\n",
       "      <td>548000.0</td>\n",
       "      <td>-1000000.0</td>\n",
       "    </tr>\n",
       "    <tr>\n",
       "      <th>159997</th>\n",
       "      <td>1475.390259</td>\n",
       "      <td>548500.0</td>\n",
       "      <td>-1000000.0</td>\n",
       "    </tr>\n",
       "    <tr>\n",
       "      <th>159998</th>\n",
       "      <td>1447.634766</td>\n",
       "      <td>549000.0</td>\n",
       "      <td>-1000000.0</td>\n",
       "    </tr>\n",
       "    <tr>\n",
       "      <th>159999</th>\n",
       "      <td>1433.327026</td>\n",
       "      <td>549500.0</td>\n",
       "      <td>-1000000.0</td>\n",
       "    </tr>\n",
       "  </tbody>\n",
       "</table>\n",
       "<p>160000 rows × 3 columns</p>\n",
       "</div>"
      ],
      "text/plain": [
       "                  h         x          y\n",
       "0        279.372437  350000.0  -800500.0\n",
       "1        289.742432  350500.0  -800500.0\n",
       "2        300.097778  351000.0  -800500.0\n",
       "3        310.446289  351500.0  -800500.0\n",
       "4        320.785889  352000.0  -800500.0\n",
       "...             ...       ...        ...\n",
       "159995  1557.559570  547500.0 -1000000.0\n",
       "159996  1514.417725  548000.0 -1000000.0\n",
       "159997  1475.390259  548500.0 -1000000.0\n",
       "159998  1447.634766  549000.0 -1000000.0\n",
       "159999  1433.327026  549500.0 -1000000.0\n",
       "\n",
       "[160000 rows x 3 columns]"
      ]
     },
     "execution_count": 17,
     "metadata": {},
     "output_type": "execute_result"
    }
   ],
   "source": [
    "# transpose needed\n",
    "byrd_thickness = pd.DataFrame(data.reshape(3, -1).T, columns = ('h', 'x', 'y'))\n",
    "byrd_thickness"
   ]
  },
  {
   "cell_type": "code",
   "execution_count": 18,
   "metadata": {},
   "outputs": [],
   "source": [
    "byrd_thickness.to_csv('data/icethickness_bedmachine_m_h_x_y_flat.csv')"
   ]
  }
 ],
 "metadata": {
  "kernelspec": {
   "display_name": "base",
   "language": "python",
   "name": "python3"
  },
  "language_info": {
   "codemirror_mode": {
    "name": "ipython",
    "version": 3
   },
   "file_extension": ".py",
   "mimetype": "text/x-python",
   "name": "python",
   "nbconvert_exporter": "python",
   "pygments_lexer": "ipython3",
   "version": "3.8.12"
  }
 },
 "nbformat": 4,
 "nbformat_minor": 2
}
