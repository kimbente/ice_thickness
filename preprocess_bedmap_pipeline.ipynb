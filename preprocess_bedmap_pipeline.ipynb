{
 "cells": [
  {
   "cell_type": "markdown",
   "id": "5d86b66d",
   "metadata": {},
   "source": [
    "# Proprocessing of Bedmap1, Bedmap2, and Bedmap3 data\n",
    "\n",
    "This notebook contains all preprocessing steps applied to the raw Bedmap data for full **reproducibility**.\n",
    "\n",
    "We download all data directly from the [UK Polar Data Centre](https://www.bas.ac.uk/data/uk-pdc/). The links to the *standardised csv* files of Bedmap1, Bedmap2 and Bedmap3 respectively are listed [on this Bristish Antarctic Survey (BAS) webpage](https://www.bas.ac.uk/project/bedmap/#data). We use the wget shell command and the urls to the data sets to download the files programmatically. Be aware of the size of the data sets. The collection of standarised csv files that make up Bedmap3 are 1.25 GB for instance. In the following we download all csvs, combine all data into one, perform some commonsense quality checks and cleaning, and crop the data to our area of interest. You only need to define a target directly to house the data and run the notebook below. If you have trouble with this approach, also see this [BAS resource](https://antarctica.github.io/PDC_GeophysicsBook/BEDMAP/Downloading_the_Bedmap_data.html) for useful information. Furthermore, this [Github repository](https://github.com/kimbente/bedmap) contains some additional analysis.\n",
    "\n",
    "\n",
    "## Data structure\n",
    "\n",
    "We create the following folder structure to download the files into the respective locations:\n",
    "\n",
    ".  \n",
    "└── bedmap_raw_data/  \n",
    "    ├── bedmap1_raw_data/  \n",
    "    │   └── BEDMAP1_1966-2000_AIR_BM1.csv  \n",
    "    ├── bedmap2_raw_data  \n",
    "    └── bedmap3_raw_data  \n"
   ]
  },
  {
   "cell_type": "markdown",
   "id": "95eb0c81",
   "metadata": {},
   "source": [
    "# DEFINE YOUR PATH to data directory\n",
    "\n",
    "Define the path to a new, empty directory to download all the data into. You can optionally use the mkdir command below to generate this directory."
   ]
  },
  {
   "cell_type": "code",
   "execution_count": null,
   "id": "b2565b62",
   "metadata": {
    "vscode": {
     "languageId": "shellscript"
    }
   },
   "outputs": [],
   "source": [
    "# CHANGE THIS AS NEEDED\n",
    "# WARNING: This script will download a large amounts of data\n",
    "path_to_bedmap_data_folder = \"/home/kim/data/bedmap_raw_data\"\n",
    "\n",
    "# Make this directory locally if you haven't already\n",
    "!mkdir -p \"{path_to_bedmap_data_folder}\""
   ]
  },
  {
   "cell_type": "markdown",
   "id": "a6b2aa08",
   "metadata": {},
   "source": [
    "## Create subdirectories "
   ]
  },
  {
   "cell_type": "code",
   "execution_count": 2,
   "id": "60aea536",
   "metadata": {
    "vscode": {
     "languageId": "shellscript"
    }
   },
   "outputs": [],
   "source": [
    "path_to_bedmap1_data_folder = f\"{path_to_bedmap_data_folder}/bedmap1_raw_data\"\n",
    "path_to_bedmap2_data_folder = f\"{path_to_bedmap_data_folder}/bedmap2_raw_data\"\n",
    "path_to_bedmap3_data_folder = f\"{path_to_bedmap_data_folder}/bedmap3_raw_data\"\n",
    "\n",
    "!mkdir -p \"{path_to_bedmap1_data_folder}\"\n",
    "!mkdir -p \"{path_to_bedmap2_data_folder}\"\n",
    "!mkdir -p \"{path_to_bedmap3_data_folder}\""
   ]
  },
  {
   "cell_type": "markdown",
   "id": "bc84d646",
   "metadata": {},
   "source": [
    "## Download Bedmap1\n",
    "\n",
    "Bedmap1 contains only one .csv file."
   ]
  },
  {
   "cell_type": "code",
   "execution_count": 4,
   "id": "4c9891d6",
   "metadata": {
    "vscode": {
     "languageId": "shellscript"
    }
   },
   "outputs": [
    {
     "name": "stdout",
     "output_type": "stream",
     "text": [
      "--2025-05-15 09:40:25--  https://ramadda.data.bas.ac.uk/repository/entry/get/BEDMAP1_1966-2000_AIR_BM1.csv?entryid=synth%3Af64815ec-4077-4432-9f55-0ce230f46029%3AL0JFRE1BUDFfMTk2Ni0yMDAwX0FJUl9CTTEuY3N2\n",
      "Resolving ramadda.data.bas.ac.uk (ramadda.data.bas.ac.uk)... 194.66.5.50\n",
      "Connecting to ramadda.data.bas.ac.uk (ramadda.data.bas.ac.uk)|194.66.5.50|:443... connected.\n",
      "HTTP request sent, awaiting response... 200 OK\n",
      "Length: 163826882 (156M) [text/csv]\n",
      "Saving to: '/home/kim/data/bedmap_raw_data/bedmap1_raw_data/BEDMAP1_1966-2000_AIR_BM1.csv’\n",
      "\n",
      "/home/kim/data/bedm 100%[===================>] 156.24M  8.95MB/s    in 18s     \n",
      "\n",
      "2025-05-15 09:40:44 (8.89 MB/s) - '/home/kim/data/bedmap_raw_data/bedmap1_raw_data/BEDMAP1_1966-2000_AIR_BM1.csv’ saved [163826882/163826882]\n",
      "\n"
     ]
    }
   ],
   "source": [
    "path_to_bedmap1_csv = f\"{path_to_bedmap1_data_folder}/BEDMAP1_1966-2000_AIR_BM1.csv\"\n",
    "bedmap1_url = \"https://ramadda.data.bas.ac.uk/repository/entry/get/BEDMAP1_1966-2000_AIR_BM1.csv?entryid=synth%3Af64815ec-4077-4432-9f55-0ce230f46029%3AL0JFRE1BUDFfMTk2Ni0yMDAwX0FJUl9CTTEuY3N2\"\n",
    "\n",
    "# Download the 156.24MB CSV file from the URL\n",
    "!wget -O \"{path_to_bedmap1_csv}\" \"{bedmap1_url}\""
   ]
  },
  {
   "cell_type": "markdown",
   "id": "fd8b496c",
   "metadata": {},
   "source": [
    "## Download Bedmap2\n",
    "\n",
    "Bedmap2 contains many csv files."
   ]
  },
  {
   "cell_type": "code",
   "execution_count": 6,
   "id": "0882242a",
   "metadata": {
    "vscode": {
     "languageId": "shellscript"
    }
   },
   "outputs": [
    {
     "name": "stdout",
     "output_type": "stream",
     "text": [
      "--2025-05-15 09:52:44--  https://ramadda.data.bas.ac.uk/repository/entry/show?entryid=2fd95199-365e-4da1-ae26-3b6d48b3e6ac&output=zip.tree\n",
      "Resolving ramadda.data.bas.ac.uk (ramadda.data.bas.ac.uk)... 194.66.5.50\n",
      "Connecting to ramadda.data.bas.ac.uk (ramadda.data.bas.ac.uk)|194.66.5.50|:443... connected.\n",
      "HTTP request sent, awaiting response... 200 OK\n",
      "Length: unspecified [multipart/x-zip]\n",
      "Saving to: '/home/kim/data/bedmap_raw_data/bedmap2_raw_data/show?entryid=2fd95199-365e-4da1-ae26-3b6d48b3e6ac&output=zip.tree’\n",
      "\n",
      "show?entryid=2fd951     [            <=>     ] 542.16M  6.16MB/s    in 97s     \n",
      "\n",
      "2025-05-15 09:54:24 (5.60 MB/s) - '/home/kim/data/bedmap_raw_data/bedmap2_raw_data/show?entryid=2fd95199-365e-4da1-ae26-3b6d48b3e6ac&output=zip.tree’ saved [568496192]\n",
      "\n"
     ]
    }
   ],
   "source": [
    "# 542.16M\n",
    "# provide name for download\n",
    "!wget -P \"{path_to_bedmap2_data_folder}/bedmap2.zip\" \"https://ramadda.data.bas.ac.uk/repository/entry/show?entryid=2fd95199-365e-4da1-ae26-3b6d48b3e6ac&output=zip.tree\"\n",
    "\n",
    "# unzip into the directory it is in\n",
    "!unzip \"{path_to_bedmap2_data_folder}/bedmap2.zip\" -d \"{path_to_bedmap2_data_folder}\""
   ]
  },
  {
   "cell_type": "code",
   "execution_count": 12,
   "id": "44828ce1",
   "metadata": {
    "vscode": {
     "languageId": "shellscript"
    }
   },
   "outputs": [
    {
     "name": "stdout",
     "output_type": "stream",
     "text": [
      "Archive:  /home/kim/data/bedmap_raw_data/bedmap2_raw_data/bedmap2.zip\n",
      "  inflating: /home/kim/data/bedmap_raw_data/bedmap2_raw_data/BEDMAP2 - Ice thickness, bed and surface elevation for Antarctica - standardised data points/AWI_1994_DML1_AIR_BM2.csv  \n",
      "  inflating: /home/kim/data/bedmap_raw_data/bedmap2_raw_data/BEDMAP2 - Ice thickness, bed and surface elevation for Antarctica - standardised data points/AWI_1995_DML2_AIR_BM2.csv  \n",
      "  inflating: /home/kim/data/bedmap_raw_data/bedmap2_raw_data/BEDMAP2 - Ice thickness, bed and surface elevation for Antarctica - standardised data points/AWI_1996_DML3_AIR_BM2.csv  \n",
      "  inflating: /home/kim/data/bedmap_raw_data/bedmap2_raw_data/BEDMAP2 - Ice thickness, bed and surface elevation for Antarctica - standardised data points/AWI_1997_DML4_AIR_BM2.csv  \n",
      "  inflating: /home/kim/data/bedmap_raw_data/bedmap2_raw_data/BEDMAP2 - Ice thickness, bed and surface elevation for Antarctica - standardised data points/AWI_1998_DML5_AIR_BM2.csv  \n",
      "  inflating: /home/kim/data/bedmap_raw_data/bedmap2_raw_data/BEDMAP2 - Ice thickness, bed and surface elevation for Antarctica - standardised data points/AWI_2000_DML6_AIR_BM2.csv  \n",
      "  inflating: /home/kim/data/bedmap_raw_data/bedmap2_raw_data/BEDMAP2 - Ice thickness, bed and surface elevation for Antarctica - standardised data points/AWI_2001_DML7_AIR_BM2.csv  \n",
      "  inflating: /home/kim/data/bedmap_raw_data/bedmap2_raw_data/BEDMAP2 - Ice thickness, bed and surface elevation for Antarctica - standardised data points/AWI_2002_DML8_AIR_BM2.csv  \n",
      "  inflating: /home/kim/data/bedmap_raw_data/bedmap2_raw_data/BEDMAP2 - Ice thickness, bed and surface elevation for Antarctica - standardised data points/AWI_2003_DML9_AIR_BM2.csv  \n",
      "  inflating: /home/kim/data/bedmap_raw_data/bedmap2_raw_data/BEDMAP2 - Ice thickness, bed and surface elevation for Antarctica - standardised data points/AWI_2004_DML10_AIR_BM2.csv  \n",
      "  inflating: /home/kim/data/bedmap_raw_data/bedmap2_raw_data/BEDMAP2 - Ice thickness, bed and surface elevation for Antarctica - standardised data points/AWI_2005_ANTSYSO_AIR_BM2.csv  \n",
      "  inflating: /home/kim/data/bedmap_raw_data/bedmap2_raw_data/BEDMAP2 - Ice thickness, bed and surface elevation for Antarctica - standardised data points/AWI_2007_ANTR_AIR_BM2.csv  \n",
      "  inflating: /home/kim/data/bedmap_raw_data/bedmap2_raw_data/BEDMAP2 - Ice thickness, bed and surface elevation for Antarctica - standardised data points/BAS_1994_Evans_AIR_BM2.csv  \n",
      "  inflating: /home/kim/data/bedmap_raw_data/bedmap2_raw_data/BEDMAP2 - Ice thickness, bed and surface elevation for Antarctica - standardised data points/BAS_1998_Dufek_AIR_BM2.csv  \n",
      "  inflating: /home/kim/data/bedmap_raw_data/bedmap2_raw_data/BEDMAP2 - Ice thickness, bed and surface elevation for Antarctica - standardised data points/BAS_2001_Bailey-Slessor_AIR_BM2.csv  \n",
      "  inflating: /home/kim/data/bedmap_raw_data/bedmap2_raw_data/BEDMAP2 - Ice thickness, bed and surface elevation for Antarctica - standardised data points/BAS_2001_MAMOG_AIR_BM2.csv  \n",
      "  inflating: /home/kim/data/bedmap_raw_data/bedmap2_raw_data/BEDMAP2 - Ice thickness, bed and surface elevation for Antarctica - standardised data points/BAS_2001_TORUS_AIR_BM2.csv  \n",
      "  inflating: /home/kim/data/bedmap_raw_data/bedmap2_raw_data/BEDMAP2 - Ice thickness, bed and surface elevation for Antarctica - standardised data points/BAS_2004_BBAS_AIR_BM2.csv  \n",
      "  inflating: /home/kim/data/bedmap_raw_data/bedmap2_raw_data/BEDMAP2 - Ice thickness, bed and surface elevation for Antarctica - standardised data points/BAS_2005_WISE-ISODYN_AIR_BM2.csv  \n",
      "  inflating: /home/kim/data/bedmap_raw_data/bedmap2_raw_data/BEDMAP2 - Ice thickness, bed and surface elevation for Antarctica - standardised data points/BAS_2006_GRADES-IMAGE_AIR_BM2.csv  \n",
      "  inflating: /home/kim/data/bedmap_raw_data/bedmap2_raw_data/BEDMAP2 - Ice thickness, bed and surface elevation for Antarctica - standardised data points/BAS_2007_AGAP_AIR_BM2.csv  \n",
      "  inflating: /home/kim/data/bedmap_raw_data/bedmap2_raw_data/BEDMAP2 - Ice thickness, bed and surface elevation for Antarctica - standardised data points/BAS_2007_TIGRIS_GRN_BM2.csv  \n",
      "  inflating: /home/kim/data/bedmap_raw_data/bedmap2_raw_data/BEDMAP2 - Ice thickness, bed and surface elevation for Antarctica - standardised data points/BAS_2009_FERRIGNO_GRN_BM2.csv  \n",
      "  inflating: /home/kim/data/bedmap_raw_data/bedmap2_raw_data/BEDMAP2 - Ice thickness, bed and surface elevation for Antarctica - standardised data points/BAS_2010_IMAFI_AIR_BM2.csv  \n",
      "  inflating: /home/kim/data/bedmap_raw_data/bedmap2_raw_data/BEDMAP2 - Ice thickness, bed and surface elevation for Antarctica - standardised data points/BAS_2010_PIG_AIR_BM2.csv  \n",
      "  inflating: /home/kim/data/bedmap_raw_data/bedmap2_raw_data/BEDMAP2 - Ice thickness, bed and surface elevation for Antarctica - standardised data points/BGR_1999_GANOVEX-VIII-Matusevich_AIR_BM2.csv  \n",
      "  inflating: /home/kim/data/bedmap_raw_data/bedmap2_raw_data/BEDMAP2 - Ice thickness, bed and surface elevation for Antarctica - standardised data points/BGR_1999_GANOVEX-VIII-Mertz_AIR_BM2.csv  \n",
      "  inflating: /home/kim/data/bedmap_raw_data/bedmap2_raw_data/BEDMAP2 - Ice thickness, bed and surface elevation for Antarctica - standardised data points/BGR_2002_PCMEGA_AIR_BM2.csv  \n",
      "  inflating: /home/kim/data/bedmap_raw_data/bedmap2_raw_data/BEDMAP2 - Ice thickness, bed and surface elevation for Antarctica - standardised data points/INGV_1997_ITASE_AIR_BM2.csv  \n",
      "  inflating: /home/kim/data/bedmap_raw_data/bedmap2_raw_data/BEDMAP2 - Ice thickness, bed and surface elevation for Antarctica - standardised data points/LDEO_2007_AGAP-GAMBIT_AIR_BM2.csv  \n",
      "  inflating: /home/kim/data/bedmap_raw_data/bedmap2_raw_data/BEDMAP2 - Ice thickness, bed and surface elevation for Antarctica - standardised data points/LDEO_2007_Recovery-Lakes_AIR_BM2.csv  \n",
      "  inflating: /home/kim/data/bedmap_raw_data/bedmap2_raw_data/BEDMAP2 - Ice thickness, bed and surface elevation for Antarctica - standardised data points/NASA_2002_ICEBRIDGE_AIR_BM2.csv  \n",
      "  inflating: /home/kim/data/bedmap_raw_data/bedmap2_raw_data/BEDMAP2 - Ice thickness, bed and surface elevation for Antarctica - standardised data points/NASA_2004_ICEBRIDGE_AIR_BM2.csv  \n",
      "  inflating: /home/kim/data/bedmap_raw_data/bedmap2_raw_data/BEDMAP2 - Ice thickness, bed and surface elevation for Antarctica - standardised data points/NASA_2009_ICEBRIDGE_AIR_BM2.csv  \n",
      "  inflating: /home/kim/data/bedmap_raw_data/bedmap2_raw_data/BEDMAP2 - Ice thickness, bed and surface elevation for Antarctica - standardised data points/NASA_2010_ICEBRIDGE_AIR_BM2.csv  \n",
      "  inflating: /home/kim/data/bedmap_raw_data/bedmap2_raw_data/BEDMAP2 - Ice thickness, bed and surface elevation for Antarctica - standardised data points/NASA_2011_ICEBRIDGE_AIR_BM2.csv  \n",
      "  inflating: /home/kim/data/bedmap_raw_data/bedmap2_raw_data/BEDMAP2 - Ice thickness, bed and surface elevation for Antarctica - standardised data points/NASA_2012_ICEBRIDGE_AIR_BM2.csv  \n",
      "  inflating: /home/kim/data/bedmap_raw_data/bedmap2_raw_data/BEDMAP2 - Ice thickness, bed and surface elevation for Antarctica - standardised data points/NIPR_1999_JARE40_GRN_BM2.csv  \n",
      "  inflating: /home/kim/data/bedmap_raw_data/bedmap2_raw_data/BEDMAP2 - Ice thickness, bed and surface elevation for Antarctica - standardised data points/NIPR_2007_JARE49_GRN_BM2.csv  \n",
      "  inflating: /home/kim/data/bedmap_raw_data/bedmap2_raw_data/BEDMAP2 - Ice thickness, bed and surface elevation for Antarctica - standardised data points/NIPR_2007_JASE_GRN_BM2.csv  \n",
      "  inflating: /home/kim/data/bedmap_raw_data/bedmap2_raw_data/BEDMAP2 - Ice thickness, bed and surface elevation for Antarctica - standardised data points/NPI_2008_BELISSIMA_GRN_BM2.csv  \n",
      "  inflating: /home/kim/data/bedmap_raw_data/bedmap2_raw_data/BEDMAP2 - Ice thickness, bed and surface elevation for Antarctica - standardised data points/NPI_2010_SRM_AIR_BM2.csv  \n",
      "  inflating: /home/kim/data/bedmap_raw_data/bedmap2_raw_data/BEDMAP2 - Ice thickness, bed and surface elevation for Antarctica - standardised data points/PRIC_2004_CHINARE-21_GRN_BM2.csv  \n",
      "  inflating: /home/kim/data/bedmap_raw_data/bedmap2_raw_data/BEDMAP2 - Ice thickness, bed and surface elevation for Antarctica - standardised data points/PRIC_2007_CHINARE-24_GRN_BM2.csv  \n",
      "  inflating: /home/kim/data/bedmap_raw_data/bedmap2_raw_data/BEDMAP2 - Ice thickness, bed and surface elevation for Antarctica - standardised data points/RNRF_2003_48RAEap5_AIR_BM2.csv  \n",
      "  inflating: /home/kim/data/bedmap_raw_data/bedmap2_raw_data/BEDMAP2 - Ice thickness, bed and surface elevation for Antarctica - standardised data points/RNRF_2004_49RAEap5_AIR_BM2.csv  \n",
      "  inflating: /home/kim/data/bedmap_raw_data/bedmap2_raw_data/BEDMAP2 - Ice thickness, bed and surface elevation for Antarctica - standardised data points/RNRF_2005_50RAEap5_AIR_BM2.csv  \n",
      "  inflating: /home/kim/data/bedmap_raw_data/bedmap2_raw_data/BEDMAP2 - Ice thickness, bed and surface elevation for Antarctica - standardised data points/RNRF_2006_51RAEap5_AIR_BM2.csv  \n",
      "  inflating: /home/kim/data/bedmap_raw_data/bedmap2_raw_data/BEDMAP2 - Ice thickness, bed and surface elevation for Antarctica - standardised data points/RNRF_2006_KV1-area_AIR_BM2.csv  \n",
      "  inflating: /home/kim/data/bedmap_raw_data/bedmap2_raw_data/BEDMAP2 - Ice thickness, bed and surface elevation for Antarctica - standardised data points/RNRF_2007_52RAEap5_AIR_BM2.csv  \n",
      "  inflating: /home/kim/data/bedmap_raw_data/bedmap2_raw_data/BEDMAP2 - Ice thickness, bed and surface elevation for Antarctica - standardised data points/RNRF_2007_Mirny-Vostok_AIR_BM2.csv  \n",
      "  inflating: /home/kim/data/bedmap_raw_data/bedmap2_raw_data/BEDMAP2 - Ice thickness, bed and surface elevation for Antarctica - standardised data points/RNRF_2008_53RAEap5_AIR_BM2.csv  \n",
      "  inflating: /home/kim/data/bedmap_raw_data/bedmap2_raw_data/BEDMAP2 - Ice thickness, bed and surface elevation for Antarctica - standardised data points/RNRF_2008_Vostok-Subglacial-Lake_AIR_BM2.csv  \n",
      "  inflating: /home/kim/data/bedmap_raw_data/bedmap2_raw_data/BEDMAP2 - Ice thickness, bed and surface elevation for Antarctica - standardised data points/RNRF_2013_Vostok-Progress_AIR_BM2.csv  \n",
      "  inflating: /home/kim/data/bedmap_raw_data/bedmap2_raw_data/BEDMAP2 - Ice thickness, bed and surface elevation for Antarctica - standardised data points/STOLAF_1994_Siple-Dome_GRN_BM2.csv  \n",
      "  inflating: /home/kim/data/bedmap_raw_data/bedmap2_raw_data/BEDMAP2 - Ice thickness, bed and surface elevation for Antarctica - standardised data points/STOLAF_2001_ITASE-Byrd-Ellsworth_GRN_BM2.csv  \n",
      "  inflating: /home/kim/data/bedmap_raw_data/bedmap2_raw_data/BEDMAP2 - Ice thickness, bed and surface elevation for Antarctica - standardised data points/STOLAF_2001_ITASE-Ellsworth_GRN_BM2.csv  \n",
      "  inflating: /home/kim/data/bedmap_raw_data/bedmap2_raw_data/BEDMAP2 - Ice thickness, bed and surface elevation for Antarctica - standardised data points/STOLAF_2002_ITASE-Byrd-South-Pole_GRN_BM2.csv  \n",
      "  inflating: /home/kim/data/bedmap_raw_data/bedmap2_raw_data/BEDMAP2 - Ice thickness, bed and surface elevation for Antarctica - standardised data points/STOLAF_2002_ITASE-Hercules-Dome_GRN_BM2.csv  \n",
      "  inflating: /home/kim/data/bedmap_raw_data/bedmap2_raw_data/BEDMAP2 - Ice thickness, bed and surface elevation for Antarctica - standardised data points/UCANTERBURY_2008_Darwin-Hatherton_GRN_BM2.csv  \n",
      "  inflating: /home/kim/data/bedmap_raw_data/bedmap2_raw_data/BEDMAP2 - Ice thickness, bed and surface elevation for Antarctica - standardised data points/UTIG_1991_CASERTZ_AIR_BM2.csv  \n",
      "  inflating: /home/kim/data/bedmap_raw_data/bedmap2_raw_data/BEDMAP2 - Ice thickness, bed and surface elevation for Antarctica - standardised data points/UTIG_1998_West-Marie-Byrd-Land_AIR_BM2.csv  \n",
      "  inflating: /home/kim/data/bedmap_raw_data/bedmap2_raw_data/BEDMAP2 - Ice thickness, bed and surface elevation for Antarctica - standardised data points/UTIG_1999_SOAR-LVS-WLK_AIR_BM2.csv  \n",
      "  inflating: /home/kim/data/bedmap_raw_data/bedmap2_raw_data/BEDMAP2 - Ice thickness, bed and surface elevation for Antarctica - standardised data points/UTIG_2000_Robb-Glacier_AIR_BM2.csv  \n",
      "  inflating: /home/kim/data/bedmap_raw_data/bedmap2_raw_data/BEDMAP2 - Ice thickness, bed and surface elevation for Antarctica - standardised data points/UTIG_2004_AGASEA_AIR_BM2.csv  \n",
      "  inflating: /home/kim/data/bedmap_raw_data/bedmap2_raw_data/BEDMAP2 - Ice thickness, bed and surface elevation for Antarctica - standardised data points/UTIG_2008_ICECAP_AIR_BM2.csv  \n"
     ]
    }
   ],
   "source": [
    "# unzip into the directory it is in\n",
    "!unzip \"{path_to_bedmap2_data_folder}/bedmap2.zip\" -d \"{path_to_bedmap2_data_folder}\"\n",
    "\n",
    "# Move all files from the nested folder to the main bedmap2 folder\n",
    "!mv \"{path_to_bedmap2_data_folder}/BEDMAP2 - Ice thickness, bed and surface elevation for Antarctica - standardised data points/\"* \"{path_to_bedmap2_data_folder}/\"\n",
    "\n",
    "# Remove the now-empty folder\n",
    "!rmdir \"{path_to_bedmap2_data_folder}/BEDMAP2 - Ice thickness, bed and surface elevation for Antarctica - standardised data points\""
   ]
  },
  {
   "cell_type": "markdown",
   "id": "5c84e1f1",
   "metadata": {},
   "source": [
    "## Download Bedmap3\n",
    "\n",
    "Bedmap3 is the largest collection of data and contains many csv files."
   ]
  },
  {
   "cell_type": "code",
   "execution_count": 15,
   "id": "2c2057d0",
   "metadata": {
    "vscode": {
     "languageId": "shellscript"
    }
   },
   "outputs": [
    {
     "name": "stdout",
     "output_type": "stream",
     "text": [
      "--2025-05-15 11:35:25--  https://ramadda.data.bas.ac.uk/repository/entry/show?entryid=91523ff9-d621-46b3-87f7-ffb6efcd1847&output=zip.tree\n",
      "Resolving ramadda.data.bas.ac.uk (ramadda.data.bas.ac.uk)... 194.66.5.50\n",
      "Connecting to ramadda.data.bas.ac.uk (ramadda.data.bas.ac.uk)|194.66.5.50|:443... connected.\n",
      "HTTP request sent, awaiting response... 200 OK\n",
      "Length: unspecified [multipart/x-zip]\n",
      "Saving to: '/home/kim/data/bedmap_raw_data/bedmap3_raw_data/bedmap3.zip/show?entryid=91523ff9-d621-46b3-87f7-ffb6efcd1847&output=zip.tree’\n",
      "\n",
      "show?entryid=91523f     [  <=>               ]   1.25G  5.03MB/s    in 3m 45s  \n",
      "\n",
      "2025-05-15 11:39:14 (5.70 MB/s) - '/home/kim/data/bedmap_raw_data/bedmap3_raw_data/bedmap3.zip/show?entryid=91523ff9-d621-46b3-87f7-ffb6efcd1847&output=zip.tree’ saved [1343033701]\n",
      "\n"
     ]
    }
   ],
   "source": [
    "!wget -P \"{path_to_bedmap3_data_folder}/bedmap3.zip\" \"https://ramadda.data.bas.ac.uk/repository/entry/show?entryid=91523ff9-d621-46b3-87f7-ffb6efcd1847&output=zip.tree\""
   ]
  },
  {
   "cell_type": "code",
   "execution_count": 22,
   "id": "a628f9f3",
   "metadata": {
    "vscode": {
     "languageId": "shellscript"
    }
   },
   "outputs": [
    {
     "name": "stdout",
     "output_type": "stream",
     "text": [
      "unzip:  cannot find or open /home/kim/data/bedmap_raw_data/bedmap3_raw_data/bedmap3.zip, /home/kim/data/bedmap_raw_data/bedmap3_raw_data/bedmap3.zip.zip or /home/kim/data/bedmap_raw_data/bedmap3_raw_data/bedmap3.zip.ZIP.\n"
     ]
    }
   ],
   "source": [
    "# unzip into the directory it is in\n",
    "!unzip \"{path_to_bedmap3_data_folder}/bedmap3.zip\""
   ]
  },
  {
   "cell_type": "code",
   "execution_count": 23,
   "id": "782bb84d",
   "metadata": {
    "vscode": {
     "languageId": "shellscript"
    }
   },
   "outputs": [
    {
     "name": "stdout",
     "output_type": "stream",
     "text": [
      "/home/kim/ice_thickness\n"
     ]
    }
   ],
   "source": [
    "!pwd"
   ]
  },
  {
   "cell_type": "markdown",
   "id": "ad7595b0",
   "metadata": {},
   "source": [
    "# Combine all data sets"
   ]
  },
  {
   "cell_type": "code",
   "execution_count": null,
   "id": "ca364325",
   "metadata": {
    "vscode": {
     "languageId": "shellscript"
    }
   },
   "outputs": [],
   "source": []
  }
 ],
 "metadata": {
  "kernelspec": {
   "display_name": "base",
   "language": "python",
   "name": "python3"
  },
  "language_info": {
   "codemirror_mode": {
    "name": "ipython",
    "version": 3
   },
   "file_extension": ".py",
   "mimetype": "text/x-python",
   "name": "python",
   "nbconvert_exporter": "python",
   "pygments_lexer": "ipython3",
   "version": "3.8.12"
  }
 },
 "nbformat": 4,
 "nbformat_minor": 5
}
