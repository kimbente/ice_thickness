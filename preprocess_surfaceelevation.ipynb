{
 "cells": [
  {
   "cell_type": "code",
   "execution_count": 1,
   "metadata": {},
   "outputs": [],
   "source": [
    "import pandas as pd\n",
    "import numpy as np\n",
    "import matplotlib\n",
    "import matplotlib.pyplot as plt\n",
    "import xarray as xr\n",
    "import torch"
   ]
  },
  {
   "cell_type": "markdown",
   "metadata": {},
   "source": [
    "## Input: \n",
    "'data/byrd_bedmachine.nc'\n",
    "## Output 1: \n",
    "3D tensor (3, 400, 400) [s, x, y] 'data/surface_m_ellipsoid_true_s_x_y.pt'\n",
    "## Output 2: \n",
    "flat csv pd.DataFrame columns [s, x, y] 'data/surface_m_ellipsoid_true_s_x_y_flat.csv'"
   ]
  },
  {
   "cell_type": "code",
   "execution_count": 2,
   "metadata": {},
   "outputs": [],
   "source": [
    "path_to_file_server = 'data/byrd_bedmachine.nc'\n",
    "byrd_bedmachine = xr.open_dataset(path_to_file_server)"
   ]
  },
  {
   "cell_type": "markdown",
   "metadata": {},
   "source": [
    "## Use ellipsoid data and get true surface elevation (REMA)"
   ]
  },
  {
   "cell_type": "code",
   "execution_count": 3,
   "metadata": {},
   "outputs": [],
   "source": [
    "byrd_bedmachine[\"surface_ellipsoid\"] = byrd_bedmachine[\"surface\"] + byrd_bedmachine[\"geoid\"]\n",
    "byrd_bedmachine[\"surface_ellipsoid_true\"] = byrd_bedmachine[\"surface_ellipsoid\"] + byrd_bedmachine[\"firn\"]"
   ]
  },
  {
   "cell_type": "markdown",
   "metadata": {},
   "source": [
    "## Tensor \n",
    "\n",
    "- 3 2D fields"
   ]
  },
  {
   "cell_type": "code",
   "execution_count": 4,
   "metadata": {},
   "outputs": [],
   "source": [
    "# grid x and y data\n",
    "xx, yy = np.meshgrid(byrd_bedmachine.x.values, byrd_bedmachine.y.values)"
   ]
  },
  {
   "cell_type": "code",
   "execution_count": 8,
   "metadata": {},
   "outputs": [
    {
     "name": "stdout",
     "output_type": "stream",
     "text": [
      "(3, 400, 400)\n"
     ]
    }
   ],
   "source": [
    "byrd_bedmachine[\"surface_ellipsoid_true\"].values\n",
    "\n",
    "data = np.concatenate((\n",
    "    byrd_bedmachine[\"surface_ellipsoid_true\"].values.reshape(1, 400, 400), \n",
    "    xx.reshape(1, 400, 400), \n",
    "    yy.reshape(1, 400, 400)))\n",
    "\n",
    "print(data.shape)"
   ]
  },
  {
   "cell_type": "code",
   "execution_count": 9,
   "metadata": {},
   "outputs": [],
   "source": [
    "torch.save(torch.tensor(data), \"data/surface_m_ellipsoid_true_s_x_y.pt\")"
   ]
  },
  {
   "cell_type": "markdown",
   "metadata": {},
   "source": [
    "# csv pd.DataFrame\n",
    "\n",
    "- flat \n",
    "- use for merging"
   ]
  },
  {
   "cell_type": "code",
   "execution_count": 17,
   "metadata": {},
   "outputs": [
    {
     "data": {
      "text/html": [
       "<div>\n",
       "<style scoped>\n",
       "    .dataframe tbody tr th:only-of-type {\n",
       "        vertical-align: middle;\n",
       "    }\n",
       "\n",
       "    .dataframe tbody tr th {\n",
       "        vertical-align: top;\n",
       "    }\n",
       "\n",
       "    .dataframe thead th {\n",
       "        text-align: right;\n",
       "    }\n",
       "</style>\n",
       "<table border=\"1\" class=\"dataframe\">\n",
       "  <thead>\n",
       "    <tr style=\"text-align: right;\">\n",
       "      <th></th>\n",
       "      <th>s</th>\n",
       "      <th>x</th>\n",
       "      <th>y</th>\n",
       "    </tr>\n",
       "  </thead>\n",
       "  <tbody>\n",
       "    <tr>\n",
       "      <th>0</th>\n",
       "      <td>2136.356445</td>\n",
       "      <td>350000.0</td>\n",
       "      <td>-800500.0</td>\n",
       "    </tr>\n",
       "    <tr>\n",
       "      <th>1</th>\n",
       "      <td>2131.236816</td>\n",
       "      <td>350500.0</td>\n",
       "      <td>-800500.0</td>\n",
       "    </tr>\n",
       "    <tr>\n",
       "      <th>2</th>\n",
       "      <td>2129.025879</td>\n",
       "      <td>351000.0</td>\n",
       "      <td>-800500.0</td>\n",
       "    </tr>\n",
       "    <tr>\n",
       "      <th>3</th>\n",
       "      <td>2127.416504</td>\n",
       "      <td>351500.0</td>\n",
       "      <td>-800500.0</td>\n",
       "    </tr>\n",
       "    <tr>\n",
       "      <th>4</th>\n",
       "      <td>2126.574951</td>\n",
       "      <td>352000.0</td>\n",
       "      <td>-800500.0</td>\n",
       "    </tr>\n",
       "    <tr>\n",
       "      <th>...</th>\n",
       "      <td>...</td>\n",
       "      <td>...</td>\n",
       "      <td>...</td>\n",
       "    </tr>\n",
       "    <tr>\n",
       "      <th>159995</th>\n",
       "      <td>2067.705078</td>\n",
       "      <td>547500.0</td>\n",
       "      <td>-1000000.0</td>\n",
       "    </tr>\n",
       "    <tr>\n",
       "      <th>159996</th>\n",
       "      <td>2074.884766</td>\n",
       "      <td>548000.0</td>\n",
       "      <td>-1000000.0</td>\n",
       "    </tr>\n",
       "    <tr>\n",
       "      <th>159997</th>\n",
       "      <td>2085.696777</td>\n",
       "      <td>548500.0</td>\n",
       "      <td>-1000000.0</td>\n",
       "    </tr>\n",
       "    <tr>\n",
       "      <th>159998</th>\n",
       "      <td>2095.212646</td>\n",
       "      <td>549000.0</td>\n",
       "      <td>-1000000.0</td>\n",
       "    </tr>\n",
       "    <tr>\n",
       "      <th>159999</th>\n",
       "      <td>2100.236572</td>\n",
       "      <td>549500.0</td>\n",
       "      <td>-1000000.0</td>\n",
       "    </tr>\n",
       "  </tbody>\n",
       "</table>\n",
       "<p>160000 rows × 3 columns</p>\n",
       "</div>"
      ],
      "text/plain": [
       "                  s         x          y\n",
       "0       2136.356445  350000.0  -800500.0\n",
       "1       2131.236816  350500.0  -800500.0\n",
       "2       2129.025879  351000.0  -800500.0\n",
       "3       2127.416504  351500.0  -800500.0\n",
       "4       2126.574951  352000.0  -800500.0\n",
       "...             ...       ...        ...\n",
       "159995  2067.705078  547500.0 -1000000.0\n",
       "159996  2074.884766  548000.0 -1000000.0\n",
       "159997  2085.696777  548500.0 -1000000.0\n",
       "159998  2095.212646  549000.0 -1000000.0\n",
       "159999  2100.236572  549500.0 -1000000.0\n",
       "\n",
       "[160000 rows x 3 columns]"
      ]
     },
     "execution_count": 17,
     "metadata": {},
     "output_type": "execute_result"
    }
   ],
   "source": [
    "# transpose needed\n",
    "byrd_surface = pd.DataFrame(data.reshape(3, -1).T, columns = ('s', 'x', 'y'))\n",
    "byrd_surface"
   ]
  },
  {
   "cell_type": "code",
   "execution_count": 18,
   "metadata": {},
   "outputs": [],
   "source": [
    "byrd_surface.to_csv('data/surface_m_ellipsoid_true_s_x_y_flat.csv')"
   ]
  }
 ],
 "metadata": {
  "kernelspec": {
   "display_name": "Python 3",
   "language": "python",
   "name": "python3"
  },
  "language_info": {
   "codemirror_mode": {
    "name": "ipython",
    "version": 3
   },
   "file_extension": ".py",
   "mimetype": "text/x-python",
   "name": "python",
   "nbconvert_exporter": "python",
   "pygments_lexer": "ipython3",
   "version": "3.8.12"
  }
 },
 "nbformat": 4,
 "nbformat_minor": 2
}
