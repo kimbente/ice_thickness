{
 "cells": [
  {
   "cell_type": "code",
   "execution_count": null,
   "id": "46c01619",
   "metadata": {},
   "outputs": [],
   "source": [
    "import torch\n",
    "from visualise import visualise_v_quiver\n",
    "import matplotlib.pyplot as plt\n",
    "\n",
    "from utils import make_grid"
   ]
  },
  {
   "cell_type": "markdown",
   "id": "fefd794b",
   "metadata": {},
   "source": [
    "# Use bed topography data as \"real data\""
   ]
  },
  {
   "cell_type": "code",
   "execution_count": 1,
   "id": "74d5b7df",
   "metadata": {},
   "outputs": [
    {
     "ename": "NameError",
     "evalue": "name 'torch' is not defined",
     "output_type": "error",
     "traceback": [
      "\u001b[0;31m---------------------------------------------------------------------------\u001b[0m",
      "\u001b[0;31mNameError\u001b[0m                                 Traceback (most recent call last)",
      "Cell \u001b[0;32mIn[1], line 1\u001b[0m\n\u001b[0;32m----> 1\u001b[0m thickness \u001b[38;5;241m=\u001b[39m \u001b[43mtorch\u001b[49m\u001b[38;5;241m.\u001b[39mload(\u001b[38;5;124m\"\u001b[39m\u001b[38;5;124m/home/kim/ice_thickness/data/icethickness_bedmachine_m_h_x_y.pt\u001b[39m\u001b[38;5;124m\"\u001b[39m, weights_only \u001b[38;5;241m=\u001b[39m \u001b[38;5;28;01mFalse\u001b[39;00m)\u001b[38;5;241m.\u001b[39mfloat()\n\u001b[1;32m      2\u001b[0m surface \u001b[38;5;241m=\u001b[39m torch\u001b[38;5;241m.\u001b[39mload(\u001b[38;5;124m\"\u001b[39m\u001b[38;5;124m/home/kim/ice_thickness/data/surface_m_ellipsoid_true_s_x_y.pt\u001b[39m\u001b[38;5;124m\"\u001b[39m, weights_only \u001b[38;5;241m=\u001b[39m \u001b[38;5;28;01mFalse\u001b[39;00m)\u001b[38;5;241m.\u001b[39mfloat()\n\u001b[1;32m      4\u001b[0m \u001b[38;5;66;03m# first dim are values\u001b[39;00m\n",
      "\u001b[0;31mNameError\u001b[0m: name 'torch' is not defined"
     ]
    }
   ],
   "source": [
    "thickness = torch.load(\"/home/kim/ice_thickness/data/icethickness_bedmachine_m_h_x_y.pt\", weights_only = False).float()\n",
    "surface = torch.load(\"/home/kim/ice_thickness/data/surface_m_ellipsoid_true_s_x_y.pt\", weights_only = False).float()\n",
    "\n",
    "# first dim are values\n",
    "bed = surface[0] - thickness[0]\n",
    "\n",
    "# Select a region of the bed to normalise\n",
    "bed_selection = bed[0:150, 100:250]\n",
    "\n",
    "std = bed_selection.std()\n",
    "mean = bed_selection.mean()\n",
    "\n",
    "# Normalise the bed selection\n",
    "bed_selection_norm = (bed_selection - mean) / std\n",
    "\n",
    "plt.figure(figsize = (6, 6))\n",
    "plt.pcolormesh(bed_selection_norm, cmap = 'viridis', shading = 'auto')\n",
    "plt.gca().set_aspect('equal')\n",
    "plt.colorbar(label = 'Normalised Bed Selection')\n",
    "plt.title(\"Normalised Bed Selection\")\n",
    "plt.tight_layout()\n",
    "plt.show()"
   ]
  },
  {
   "cell_type": "code",
   "execution_count": null,
   "id": "a9424e1b",
   "metadata": {},
   "outputs": [],
   "source": [
    "bed_smoothed = torch.nn.functional.avg_pool2d(bed_selection_norm.unsqueeze(0).unsqueeze(0), kernel_size = 5, stride = 1, padding = 1)[0, 0]\n",
    "\n",
    "fig, ax = plt.subplots(figsize = (6, 6))\n",
    "c = ax.pcolormesh(bed_smoothed, cmap = 'viridis')\n",
    "ax.set_aspect('equal')\n",
    "ax.set_title(\"Smoothed Bed\")\n",
    "\n",
    "# Add colorbar next to the axis\n",
    "cbar = plt.colorbar(c, ax = ax, fraction = 0.046, pad = 0.04)  # tweak these as needed\n",
    "cbar.set_label('normalised bed elevation')\n",
    "\n",
    "plt.tight_layout()\n",
    "plt.show()"
   ]
  },
  {
   "cell_type": "code",
   "execution_count": 2,
   "id": "913c22ad",
   "metadata": {},
   "outputs": [],
   "source": [
    "def generate_directed_stream(x_grid, angle_degree):\n",
    "    \"\"\"\n",
    "    Generate a linear stream function (scalar field) based on the x coordinate grid.\n",
    "    The stream function is directed in a specified angle (in degrees).\n",
    "    \"\"\"\n",
    "    # Base linear stream function giving uniform flow in ~250° direction\n",
    "    angle_rad = torch.deg2rad(torch.tensor(angle_degree, dtype = torch.float32))\n",
    "\n",
    "    a = torch.cos(angle_rad)  # x weight\n",
    "    b = torch.sin(angle_rad)  # y weight\n",
    "\n",
    "    # ψ(x, y) = a*x + b*y (gives uniform flow in direction orthogonal to gradient)\n",
    "    directed_stream = a * x_test_grid[:, :, 0] + b * x_test_grid[:, :, 1]\n",
    "    \n",
    "    return directed_stream"
   ]
  },
  {
   "cell_type": "code",
   "execution_count": null,
   "id": "74176dad",
   "metadata": {},
   "outputs": [],
   "source": [
    "baseline_stream = generate_directed_stream(x_grid = x_test_grid, angle_degree = 250)"
   ]
  },
  {
   "cell_type": "code",
   "execution_count": null,
   "id": "6dd218fb",
   "metadata": {},
   "outputs": [],
   "source": [
    "def compose_stream_from_bed(x_grid, underlying_stream = baseline_stream, bed = bed_smoothed, bed_weight = 0.01):\n",
    "    \"\"\"Compose a stream function from the bed elevation.\n",
    "    Arguments:\n",
    "        x_grid: The grid of x and y coordinates.\n",
    "        underlying_stream: The base stream function. This should be the same dim as the grid.\n",
    "        bed (torch.size([whatever, whatever])): The bed elevation field.\n",
    "    Returns\n",
    "\n",
    "    \"\"\"\n",
    "    # Resample the bed elevation (arbitrary size selected) to match the grid\n",
    "    bed_on_grid = torch.nn.functional.grid_sample(\n",
    "        bed.unsqueeze(0).unsqueeze(0), # unsqueeze to add batch and channel dimensions torch.Size([1, 1, HW, HW]),\n",
    "        x_grid.unsqueeze(0) * 2 - 1, # unsqueeze to add batch dimension torch.Size([1, HW, HW, 2]) and renorm to [-1, 1]\n",
    "        align_corners = True, \n",
    "        mode = 'bilinear')[0, 0] # unsqueeze to remove batch and channel dimensions torch.Size([HW, HW])\n",
    "    \n",
    "    # Normalise the bed elevation to have mean 0 and std 1\n",
    "    bed_on_grid_norm = (bed_on_grid - bed_on_grid.mean()) / bed_on_grid.std()\n",
    "\n",
    "    # Combined\n",
    "    combined_stream = underlying_stream + bed_on_grid_norm * bed_weight \n",
    "\n",
    "    return combined_stream"
   ]
  },
  {
   "cell_type": "code",
   "execution_count": null,
   "id": "92aebef8",
   "metadata": {},
   "outputs": [],
   "source": [
    "x_test_grid.requires_grad_(True)\n",
    "\n",
    "baseline_stream = generate_directed_stream(\n",
    "    x_grid = x_test_grid, \n",
    "    angle_degree = 340) # 170 degrees is a flow towards South with a smidge of West\n",
    "\n",
    "combined_stream = compose_stream_from_bed(\n",
    "    x_grid = x_test_grid,\n",
    "    underlying_stream = baseline_stream,\n",
    "    bed = bed_smoothed,\n",
    "    bed_weight = 0.02)\n",
    "\n",
    "fig, ax = plt.subplots(figsize = (6, 6))\n",
    "c = ax.pcolormesh(combined_stream.detach(), cmap = 'viridis')\n",
    "ax.set_aspect('equal')\n",
    "ax.set_title(\"Combined Stream Function (flow along contours)\")\n",
    "\n",
    "# Add colorbar next to the axis\n",
    "cbar = plt.colorbar(c, ax = ax, fraction = 0.046, pad = 0.04)  # tweak these as needed\n",
    "cbar.set_label('stream function value')\n",
    "\n",
    "plt.tight_layout()\n",
    "plt.show()"
   ]
  },
  {
   "cell_type": "code",
   "execution_count": null,
   "id": "1f5dd973",
   "metadata": {},
   "outputs": [],
   "source": [
    "# Turn stream function into divergence-free vector field via partial derivatives"
   ]
  },
  {
   "cell_type": "code",
   "execution_count": null,
   "id": "0d847a0f",
   "metadata": {},
   "outputs": [],
   "source": [
    "grad_psi = torch.autograd.grad(\n",
    "    outputs = combined_stream,\n",
    "    inputs = x_test_grid,\n",
    "    grad_outputs = torch.ones_like(combined_stream) # non scalar setting: equal contributions from each output element\n",
    "    )[0]  # shape: (n_side, n_side, 2)\n",
    "\n",
    "# Now form the velocity field via curl:\n",
    "u = grad_psi[:, :, 1]\n",
    "v = - grad_psi[:, :, 0]\n",
    "\n",
    "velocity = torch.stack([u, v], dim = -1)  # shape: (n_side, n_side, 2)"
   ]
  },
  {
   "cell_type": "code",
   "execution_count": null,
   "id": "419b872f",
   "metadata": {},
   "outputs": [],
   "source": [
    "def finite_diff_grad(field, dx=1.0, dy=1.0):\n",
    "    # field: shape (H, W)\n",
    "    \n",
    "    # Compute central differences (interior)\n",
    "    dψ_dx = (field[:, 2:] - field[:, :-2]) / (2 * dx)\n",
    "    dψ_dy = (field[2:, :] - field[:-2, :]) / (2 * dy)\n",
    "\n",
    "    # Pad edges by repeating the nearest value\n",
    "    left = dψ_dx[:, :1]\n",
    "    right = dψ_dx[:, -1:]\n",
    "    dψ_dx = torch.cat([left, dψ_dx, right], dim=1)\n",
    "\n",
    "    top = dψ_dy[:1, :]\n",
    "    bottom = dψ_dy[-1:, :]\n",
    "    dψ_dy = torch.cat([top, dψ_dy, bottom], dim=0)\n",
    "\n",
    "    # Combine to shape (H, W, 2)\n",
    "    return torch.stack([dψ_dx, dψ_dy], dim=-1)\n",
    "\n",
    "\n",
    "grad_psi = finite_diff_grad(combined_stream, dx=1.0, dy=1.0)\n",
    "\n",
    "u = grad_psi[:, :, 1]   # ∂ψ/∂y\n",
    "v = -grad_psi[:, :, 0]  # -∂ψ/∂x\n",
    "\n",
    "velocity = torch.stack([u, v], dim=-1)  # (H, W, 2)"
   ]
  },
  {
   "cell_type": "code",
   "execution_count": null,
   "id": "59ab8475",
   "metadata": {},
   "outputs": [],
   "source": [
    "import numpy as np\n",
    "H, W = velocity.shape[:2]\n",
    "U = velocity[..., 0].detach().cpu().numpy()  # x-component (u)\n",
    "V = velocity[..., 1].detach().cpu().numpy()  # y-component (v)\n",
    "\n",
    "# Create meshgrid for quiver arrows\n",
    "X, Y = np.meshgrid(np.arange(W), np.arange(H))\n",
    "\n",
    "# Downsample for clarity\n",
    "step = 5\n",
    "plt.figure(figsize = (6, 6))\n",
    "plt.quiver(X[::step, ::step], Y[::step, ::step],\n",
    "           U[::step, ::step], V[::step, ::step],\n",
    "           color='blue', headwidth=3)\n",
    "\n",
    "plt.gca().invert_yaxis()  # Flip y-axis to match matrix layout\n",
    "plt.axis('equal')\n",
    "plt.title('Velocity Field from Stream Function')\n",
    "plt.tight_layout()\n",
    "plt.show()"
   ]
  },
  {
   "cell_type": "code",
   "execution_count": null,
   "id": "3e469c44",
   "metadata": {},
   "outputs": [],
   "source": [
    "x_test_grid = x_test_grid.clone().detach().requires_grad_(True)\n",
    "\n",
    "# combined_stream is a scalar field of shape (128, 128)\n",
    "combined_stream = compose_stream_from_bed(x_test_grid)\n",
    "\n",
    "# Compute gradient of the summed stream w.r.t. inputs\n",
    "grad_stream = torch.autograd.grad(\n",
    "    outputs=combined_stream,                      # shape: [128, 128]\n",
    "    inputs=x_test_grid,                           # shape: [128, 128, 2]\n",
    "    grad_outputs=torch.ones_like(combined_stream),# tells autograd to sum over outputs\n",
    "    create_graph=True\n",
    ")[0]  # shape: [128, 128, 2]"
   ]
  },
  {
   "cell_type": "code",
   "execution_count": null,
   "id": "40652866",
   "metadata": {},
   "outputs": [],
   "source": [
    "import numpy as np\n",
    "# Assume grad_stream: (H, W, 2)\n",
    "H, W = grad_stream.shape[:2]\n",
    "\n",
    "# Make meshgrid for plotting (x = columns, y = rows)\n",
    "X, Y = np.meshgrid(np.arange(W), np.arange(H))\n",
    "\n",
    "# Get x and y components of gradient\n",
    "U = grad_stream[..., 0].detach().cpu().numpy()  # ∂ψ/∂x\n",
    "V = grad_stream[..., 1].detach().cpu().numpy()  # ∂ψ/∂y\n",
    "\n",
    "# Optional: Downsample for cleaner quiver plot\n",
    "step = 5\n",
    "plt.figure(figsize=(6, 6))\n",
    "plt.quiver(X[::step, ::step], Y[::step, ::step],\n",
    "           U[::step, ::step], V[::step, ::step],\n",
    "           color='blue', headwidth=3)\n",
    "\n",
    "plt.gca().invert_yaxis()  # Optional: flip y to match matrix layout\n",
    "plt.axis('equal')\n",
    "plt.title('Gradient of Stream Function')\n",
    "plt.tight_layout()\n",
    "plt.show()"
   ]
  },
  {
   "cell_type": "markdown",
   "id": "2ecc8772",
   "metadata": {},
   "source": [
    "# Jacobian"
   ]
  },
  {
   "cell_type": "code",
   "execution_count": null,
   "id": "8dfd856e",
   "metadata": {},
   "outputs": [],
   "source": [
    "full_jac = torch.autograd.functional.jacobian(compose_stream_from_bed, x_test_grid)"
   ]
  },
  {
   "cell_type": "code",
   "execution_count": null,
   "id": "9484a3b9",
   "metadata": {},
   "outputs": [],
   "source": [
    "full_jac.shape # (128, 128, 128, 128, 2) where (128, 128) is the output and (128, 128, 2) is the input\n",
    "diag_jac = full_jac.diagonal(dim1 = 0, dim2 = 2).diagonal(dim1 = 0, dim2 = 1).permute(1, 2, 0)\n",
    "diag_jac.shape # (128, 128, 2) where (128, 128) is the output and (2) is the input"
   ]
  },
  {
   "cell_type": "code",
   "execution_count": null,
   "id": "05a89975",
   "metadata": {},
   "outputs": [],
   "source": [
    "U = diag_jac[..., 0].detach().cpu().numpy()  # ∂ψ/∂x\n",
    "V = diag_jac[..., 1].detach().cpu().numpy()  # ∂ψ/∂y\n",
    "\n",
    "# Optional: Downsample for cleaner quiver plot\n",
    "step = 5\n",
    "plt.figure(figsize=(6, 6))\n",
    "plt.quiver(X[::step, ::step], Y[::step, ::step],\n",
    "           U[::step, ::step], V[::step, ::step],\n",
    "           color='blue', headwidth=3)\n",
    "\n",
    "plt.gca().invert_yaxis()  # Optional: flip y to match matrix layout\n",
    "plt.axis('equal')\n",
    "plt.title('Gradient of Stream Function')\n",
    "plt.tight_layout()\n",
    "plt.show()"
   ]
  }
 ],
 "metadata": {
  "kernelspec": {
   "display_name": "Python 3",
   "language": "python",
   "name": "python3"
  },
  "language_info": {
   "codemirror_mode": {
    "name": "ipython",
    "version": 3
   },
   "file_extension": ".py",
   "mimetype": "text/x-python",
   "name": "python",
   "nbconvert_exporter": "python",
   "pygments_lexer": "ipython3",
   "version": "3.9.20"
  }
 },
 "nbformat": 4,
 "nbformat_minor": 5
}
